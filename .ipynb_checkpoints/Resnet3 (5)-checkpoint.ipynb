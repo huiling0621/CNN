{
 "cells": [
  {
   "cell_type": "code",
   "execution_count": 1,
   "metadata": {
    "colab": {
     "base_uri": "https://localhost:8080/",
     "height": 35
    },
    "colab_type": "code",
    "id": "5kqQdv2WLcPY",
    "outputId": "87326f02-e1e8-457b-ef3f-a3fd331ddeca"
   },
   "outputs": [
    {
     "name": "stderr",
     "output_type": "stream",
     "text": [
      "Using TensorFlow backend.\n"
     ]
    }
   ],
   "source": [
    "import keras\n",
    "from keras.models import Sequential\n",
    "from keras.layers import Dense, Dropout, Flatten\n",
    "from keras.layers import Conv2D, MaxPooling2D\n",
    "from keras.layers. normalization import BatchNormalization\n",
    "import numpy as np \n"
   ]
  },
  {
   "cell_type": "code",
   "execution_count": 2,
   "metadata": {
    "colab": {
     "base_uri": "https://localhost:8080/",
     "height": 35
    },
    "colab_type": "code",
    "id": "tGL3tu9GLd-8",
    "outputId": "f2bd67bf-d8b6-4358-d399-629f2699623f"
   },
   "outputs": [
    {
     "name": "stdout",
     "output_type": "stream",
     "text": [
      "Found GPU at: /device:GPU:0\n"
     ]
    }
   ],
   "source": [
    "import tensorflow as tf\n",
    "device_name = tf.test.gpu_device_name()\n",
    "if device_name != '/device:GPU:0':\n",
    "    raise SystemError('GPU device not found')\n",
    "print('Found GPU at: {}'.format(device_name))"
   ]
  },
  {
   "cell_type": "code",
   "execution_count": 3,
   "metadata": {
    "colab": {
     "base_uri": "https://localhost:8080/",
     "height": 235
    },
    "colab_type": "code",
    "id": "TMAAidaSLegf",
    "outputId": "06aa3081-adc3-4daf-850d-7a0b22e0dc99"
   },
   "outputs": [
    {
     "name": "stdout",
     "output_type": "stream",
     "text": [
      "E: Package 'python-software-properties' has no installation candidate\n",
      "Selecting previously unselected package google-drive-ocamlfuse.\n",
      "(Reading database ... 110851 files and directories currently installed.)\n",
      "Preparing to unpack .../google-drive-ocamlfuse_0.7.1-0ubuntu3~ubuntu18.04.1_amd64.deb ...\n",
      "Unpacking google-drive-ocamlfuse (0.7.1-0ubuntu3~ubuntu18.04.1) ...\n",
      "Setting up google-drive-ocamlfuse (0.7.1-0ubuntu3~ubuntu18.04.1) ...\n",
      "Processing triggers for man-db (2.8.3-2ubuntu0.1) ...\n",
      "Please, open the following URL in a web browser: https://accounts.google.com/o/oauth2/auth?client_id=32555940559.apps.googleusercontent.com&redirect_uri=urn%3Aietf%3Awg%3Aoauth%3A2.0%3Aoob&scope=https%3A%2F%2Fwww.googleapis.com%2Fauth%2Fdrive&response_type=code&access_type=offline&approval_prompt=force\n",
      "··········\n",
      "Please, open the following URL in a web browser: https://accounts.google.com/o/oauth2/auth?client_id=32555940559.apps.googleusercontent.com&redirect_uri=urn%3Aietf%3Awg%3Aoauth%3A2.0%3Aoob&scope=https%3A%2F%2Fwww.googleapis.com%2Fauth%2Fdrive&response_type=code&access_type=offline&approval_prompt=force\n",
      "Please enter the verification code: Access token retrieved correctly.\n"
     ]
    }
   ],
   "source": [
    "!apt-get install -y -qq software-properties-common python-software-properties module-init-tools\n",
    "!add-apt-repository -y ppa:alessandro-strada/ppa 2>&1 > /dev/null\n",
    "!apt-get update -qq 2>&1 > /dev/null\n",
    "!apt-get -y install -qq google-drive-ocamlfuse fuse\n",
    "from google.colab import auth\n",
    "auth.authenticate_user()\n",
    "from oauth2client.client import GoogleCredentials\n",
    "creds = GoogleCredentials.get_application_default()\n",
    "import getpass\n",
    "!google-drive-ocamlfuse -headless -id={creds.client_id} -secret={creds.client_secret} < /dev/null 2>&1 | grep URL\n",
    "vcode = getpass.getpass()\n",
    "!echo {vcode} | google-drive-ocamlfuse -headless -id={creds.client_id} -secret={creds.client_secret}"
   ]
  },
  {
   "cell_type": "code",
   "execution_count": 0,
   "metadata": {
    "colab": {},
    "colab_type": "code",
    "id": "aHgdz59FLezl"
   },
   "outputs": [],
   "source": [
    " !mkdir -p drive\n",
    " !google-drive-ocamlfuse drive\n"
   ]
  },
  {
   "cell_type": "code",
   "execution_count": 5,
   "metadata": {
    "colab": {
     "base_uri": "https://localhost:8080/",
     "height": 35
    },
    "colab_type": "code",
    "id": "UJpXkvOGLfA0",
    "outputId": "7130c29c-9402-42e0-9d95-e60ccbb4a50b"
   },
   "outputs": [
    {
     "name": "stdout",
     "output_type": "stream",
     "text": [
      "/root\n"
     ]
    }
   ],
   "source": [
    "cd"
   ]
  },
  {
   "cell_type": "code",
   "execution_count": 6,
   "metadata": {
    "colab": {
     "base_uri": "https://localhost:8080/",
     "height": 35
    },
    "colab_type": "code",
    "id": "Ge1O9LsYLfNc",
    "outputId": "33376da0-92ea-47b1-acf5-e57a06c24255"
   },
   "outputs": [
    {
     "name": "stdout",
     "output_type": "stream",
     "text": [
      "/\n"
     ]
    }
   ],
   "source": [
    "cd .."
   ]
  },
  {
   "cell_type": "code",
   "execution_count": 7,
   "metadata": {
    "colab": {
     "base_uri": "https://localhost:8080/",
     "height": 35
    },
    "colab_type": "code",
    "id": "hKoXEspfLfY6",
    "outputId": "4947dc94-0a80-45e5-ac07-00f806eec27c"
   },
   "outputs": [
    {
     "name": "stdout",
     "output_type": "stream",
     "text": [
      "/content/drive/图像识别\n"
     ]
    }
   ],
   "source": [
    "cd content/drive/图像识别"
   ]
  },
  {
   "cell_type": "code",
   "execution_count": 0,
   "metadata": {
    "colab": {},
    "colab_type": "code",
    "id": "yyw9xiE6Lfke"
   },
   "outputs": [],
   "source": []
  },
  {
   "cell_type": "code",
   "execution_count": 0,
   "metadata": {
    "colab": {},
    "colab_type": "code",
    "id": "8IKFYZRYLUu7"
   },
   "outputs": [],
   "source": [
    "import keras\n",
    "from keras.layers import Dense, Conv2D, BatchNormalization, Activation\n",
    "from keras.layers import AveragePooling2D, Input, Flatten\n",
    "from keras.optimizers import Adam\n",
    "from keras.regularizers import l2\n",
    "from keras import backend as K\n",
    "from keras.models import Model\n",
    "from keras.datasets import cifar10\n",
    "from keras.callbacks import ModelCheckpoint, LearningRateScheduler\n",
    "from keras.callbacks import ReduceLROnPlateau\n",
    "import numpy as np\n",
    "import os\n",
    "import pandas as pd\n",
    "from PIL import Image  #Python的图像处理库\n",
    "import numpy as np\n",
    "import os\n",
    "from random import shuffle\n",
    "import matplotlib.pyplot as plt\n",
    "import gc\n",
    "\n"
   ]
  },
  {
   "cell_type": "markdown",
   "metadata": {
    "colab_type": "text",
    "id": "IR8YMOF6RWC2"
   },
   "source": [
    "# 数据处理\n"
   ]
  },
  {
   "cell_type": "code",
   "execution_count": 0,
   "metadata": {
    "colab": {},
    "colab_type": "code",
    "id": "VNlr2T4PRTJp"
   },
   "outputs": [],
   "source": [
    "import numpy as np\n",
    "import os\n",
    "from shutil import copyfile,rmtree"
   ]
  },
  {
   "cell_type": "code",
   "execution_count": 0,
   "metadata": {
    "colab": {},
    "colab_type": "code",
    "id": "J-4Je8PyIvxL"
   },
   "outputs": [],
   "source": []
  },
  {
   "cell_type": "code",
   "execution_count": 0,
   "metadata": {
    "colab": {},
    "colab_type": "code",
    "id": "pBXsEJ6NRTHe"
   },
   "outputs": [],
   "source": [
    "#新建路径是为了存放分开的测试集和验证集\n",
    "data_folder = 'data_v1/'#原始图像目录\n",
    "new_data_folder = 'data_v1/分类数据/'#新的文件夹"
   ]
  },
  {
   "cell_type": "code",
   "execution_count": 0,
   "metadata": {
    "colab": {},
    "colab_type": "code",
    "id": "3zC-c6WAk0j7"
   },
   "outputs": [],
   "source": [
    "#提取路径下的所有文件名\n",
    "def data_path(DIR):\n",
    "  data_dir = []\n",
    "  for i in os.listdir(DIR):\n",
    "    path = os.path.join(DIR,i)\n",
    "    data_dir.append(path)\n",
    "  return data_dir"
   ]
  },
  {
   "cell_type": "code",
   "execution_count": 0,
   "metadata": {
    "colab": {},
    "colab_type": "code",
    "id": "Lnf2dY5vl3OY"
   },
   "outputs": [],
   "source": [
    "DIR1 = 'data_v1/no_damage'\n",
    "good_car_dir = data_path(DIR1)"
   ]
  },
  {
   "cell_type": "code",
   "execution_count": 0,
   "metadata": {
    "colab": {},
    "colab_type": "code",
    "id": "XklwTSS-mJVP"
   },
   "outputs": [],
   "source": [
    "DIR1 = 'data_v1/other'\n",
    "other_damage_dir = data_path(DIR1) "
   ]
  },
  {
   "cell_type": "code",
   "execution_count": 0,
   "metadata": {
    "colab": {
     "base_uri": "https://localhost:8080/",
     "height": 35
    },
    "colab_type": "code",
    "id": "sZhXZuEFIRAX",
    "outputId": "af11a5b3-dab2-4ffa-cdc5-5ce3d0c30d7b"
   },
   "outputs": [
    {
     "data": {
      "text/plain": [
       "164"
      ]
     },
     "execution_count": 28,
     "metadata": {
      "tags": []
     },
     "output_type": "execute_result"
    }
   ],
   "source": [
    "len(other_damage_dir)"
   ]
  },
  {
   "cell_type": "code",
   "execution_count": 0,
   "metadata": {
    "colab": {},
    "colab_type": "code",
    "id": "5dygxDkQmJe2"
   },
   "outputs": [],
   "source": [
    "DIR1 =  'data_v1/scratch'\n",
    "scrath_dir = data_path(DIR1) "
   ]
  },
  {
   "cell_type": "code",
   "execution_count": 0,
   "metadata": {
    "colab": {
     "base_uri": "https://localhost:8080/",
     "height": 35
    },
    "colab_type": "code",
    "id": "lWXCfIdxq12N",
    "outputId": "d6303c9d-9b25-4b1a-98f8-2b3741182059"
   },
   "outputs": [
    {
     "data": {
      "text/plain": [
       "1234"
      ]
     },
     "execution_count": 39,
     "metadata": {
      "tags": []
     },
     "output_type": "execute_result"
    }
   ],
   "source": [
    "train_data = good_car_dir + other_damage_dir + scrath_dir\n",
    "len(train_data)"
   ]
  },
  {
   "cell_type": "code",
   "execution_count": 0,
   "metadata": {
    "colab": {},
    "colab_type": "code",
    "id": "-sOgxN3fnpsF"
   },
   "outputs": [],
   "source": [
    "#提取数据的标签\n",
    "def Label(data):\n",
    "  labels = []\n",
    "  for i in data:\n",
    "    label = i.split('/')[1:]\n",
    "    labels.append(label)\n",
    "  return labels"
   ]
  },
  {
   "cell_type": "code",
   "execution_count": 0,
   "metadata": {
    "colab": {},
    "colab_type": "code",
    "id": "wS7dWfyEqMIA"
   },
   "outputs": [],
   "source": [
    "label_total = Label(good_car_dir) + Label(other_damage_dir) + Label(scrath_dir)"
   ]
  },
  {
   "cell_type": "code",
   "execution_count": 0,
   "metadata": {
    "colab": {
     "base_uri": "https://localhost:8080/",
     "height": 35
    },
    "colab_type": "code",
    "id": "hzEMd3XORgTo",
    "outputId": "ab304377-68f0-4c74-d06c-34071cbb9a5c"
   },
   "outputs": [
    {
     "data": {
      "text/plain": [
       "['no_damage', '34.jpg']"
      ]
     },
     "execution_count": 38,
     "metadata": {
      "tags": []
     },
     "output_type": "execute_result"
    }
   ],
   "source": [
    "label_total[1]"
   ]
  },
  {
   "cell_type": "code",
   "execution_count": 0,
   "metadata": {
    "colab": {},
    "colab_type": "code",
    "id": "esg1Am9qtu09"
   },
   "outputs": [],
   "source": [
    "#限定训练集、验证集、测试集的样本数\n",
    "train_size = 800\n",
    "test_size = 280\n",
    "val_size= 154\n",
    "np.random.shuffle(label_total)#随机打乱\n"
   ]
  },
  {
   "cell_type": "code",
   "execution_count": 0,
   "metadata": {
    "colab": {
     "base_uri": "https://localhost:8080/",
     "height": 35
    },
    "colab_type": "code",
    "id": "T3ISzcVnc34g",
    "outputId": "20189575-e70d-45c0-c9c9-8fd50ea3d35f"
   },
   "outputs": [
    {
     "data": {
      "text/plain": [
       "280"
      ]
     },
     "execution_count": 47,
     "metadata": {
      "tags": []
     },
     "output_type": "execute_result"
    }
   ],
   "source": [
    "val_size"
   ]
  },
  {
   "cell_type": "code",
   "execution_count": 0,
   "metadata": {
    "colab": {},
    "colab_type": "code",
    "id": "nL-jkIwkuTl_"
   },
   "outputs": [],
   "source": [
    "#新建train、validation、test文件夹并存放相应数量的图片\n",
    "current_i = 0\n",
    "\n",
    "def save_images(current_i,phase,d_size):\n",
    "\n",
    "    if phase == 'train':\n",
    "\n",
    "        dst_folder = new_data_folder+'train/'\n",
    "\n",
    "    elif phase == 'test':\n",
    "\n",
    "        dst_folder = new_data_folder+'test/'\n",
    "\n",
    "    elif phase == 'validation':\n",
    "\n",
    "        dst_folder = new_data_folder+'validation/'\n",
    "\n",
    "    else:\n",
    "\n",
    "        print('phase error')\n",
    "\n",
    "        exit()\n",
    "\n",
    "\n",
    "\n",
    "    for i in range(current_i,current_i+d_size):\n",
    "\n",
    "        r = label_total[i]\n",
    "\n",
    "        img_full_path = data_folder+r[0] + '/' + r[1]\n",
    "\n",
    "        img_class = r[0]\n",
    "\n",
    "        img_new_path = dst_folder+img_class+'/'+r[1]\n",
    "\n",
    "\n",
    "\n",
    "        if not os.path.exists(dst_folder+img_class):\n",
    "\n",
    "            os.makedirs(dst_folder+img_class)\n",
    "\n",
    "        copyfile(img_full_path,img_new_path)\n",
    "\n",
    "        print(img_new_path,' copied')\n",
    "\n",
    "    current_i = i\n",
    "\n",
    "\n",
    "\n",
    "    return current_i"
   ]
  },
  {
   "cell_type": "code",
   "execution_count": 0,
   "metadata": {
    "colab": {},
    "colab_type": "code",
    "id": "-5utfuObuZf7"
   },
   "outputs": [],
   "source": [
    "new_i = save_images(current_i=0,phase='train',d_size=train_size)\n",
    "new_i = save_images(current_i=new_i,phase='test',d_size=test_size)\n",
    "new_i = save_images(current_i=new_i,phase='validation',d_size=val_size)"
   ]
  },
  {
   "cell_type": "code",
   "execution_count": 0,
   "metadata": {
    "colab": {},
    "colab_type": "code",
    "id": "UqUlS7WCuZot"
   },
   "outputs": [],
   "source": []
  },
  {
   "cell_type": "code",
   "execution_count": 0,
   "metadata": {
    "colab": {},
    "colab_type": "code",
    "id": "c0mwpz8VqMRu"
   },
   "outputs": [],
   "source": [
    "len()"
   ]
  },
  {
   "cell_type": "markdown",
   "metadata": {
    "colab_type": "text",
    "id": "I-N_AqHl7mj0"
   },
   "source": [
    "# 数据训练"
   ]
  },
  {
   "cell_type": "code",
   "execution_count": 0,
   "metadata": {
    "colab": {},
    "colab_type": "code",
    "id": "SP89Gzb6Abmm"
   },
   "outputs": [],
   "source": [
    "import argparse,json,sys,glob,time\n",
    "sys.path.append('lib')\n",
    "sys.path.insert(0, r'lib\\tensorflow_gpu')\n",
    "from pdb import set_trace as dd\n",
    "from keras.applications.inception_v3 import InceptionV3\n",
    "from keras.preprocessing import image\n",
    "from keras.models import Model\n",
    "from keras.layers import Dense, GlobalAveragePooling2D\n",
    "from keras import backend as K\n",
    "from keras.preprocessing.image import ImageDataGenerator\n",
    "from keras.layers import Input\n"
   ]
  },
  {
   "cell_type": "code",
   "execution_count": 0,
   "metadata": {
    "colab": {},
    "colab_type": "code",
    "id": "3dpujdvLAbyr"
   },
   "outputs": [],
   "source": [
    "# dimensions of our images.\n",
    "img_width, img_height = 299, 299\n",
    "\n",
    "train_data_dir = r'data_v1/分类数据/train' \n",
    "validation_data_dir = r'data_v1/分类数据/validation' \n",
    "test_data_dir = r'data_v1/分类数据/test'\n",
    "\n",
    "nb_train_samples = 800\n",
    "nb_validation_samples = 154\n",
    "nb_epoch = 280\n",
    "nb_classes = 3  # number of target classes"
   ]
  },
  {
   "cell_type": "code",
   "execution_count": 11,
   "metadata": {
    "colab": {
     "base_uri": "https://localhost:8080/",
     "height": 89
    },
    "colab_type": "code",
    "id": "LWfBJroh76zB",
    "outputId": "4e7fa498-93fd-44f3-890a-acd5de114f33"
   },
   "outputs": [
    {
     "name": "stdout",
     "output_type": "stream",
     "text": [
      "Found 794 images belonging to 3 classes.\n",
      "Found 156 images belonging to 3 classes.\n",
      "Found 279 images belonging to 3 classes.\n",
      "start history model\n"
     ]
    }
   ],
   "source": [
    "# prepare data augmentation configuration\n",
    "train_datagen = ImageDataGenerator( rescale=1./255)#,\n",
    " #       shear_range=0.2,\n",
    " #       zoom_range=0.2,\n",
    " #       horizontal_flip=True)\n",
    "\n",
    "test_datagen = ImageDataGenerator(rescale=1./255)\n",
    "\n",
    "train_generator = train_datagen.flow_from_directory(\n",
    "    train_data_dir,\n",
    "    target_size=(img_width, img_height),\n",
    "    batch_size=16,\n",
    "    class_mode='categorical'\n",
    ")\n",
    "\n",
    "validation_generator = test_datagen.flow_from_directory(\n",
    "    validation_data_dir,\n",
    "    target_size=(img_width, img_height),\n",
    "    batch_size=16,\n",
    "    class_mode='categorical'\n",
    ")\n",
    "test_generator = test_datagen.flow_from_directory(\n",
    "    test_data_dir,\n",
    "    target_size=(img_width, img_height),\n",
    "    batch_size=16,\n",
    "    class_mode='categorical'\n",
    ")\n",
    "print( \"start history model\")\n"
   ]
  },
  {
   "cell_type": "code",
   "execution_count": 0,
   "metadata": {
    "colab": {},
    "colab_type": "code",
    "id": "p-6IYx_G--8O"
   },
   "outputs": [],
   "source": [
    "A = test_generator.classes"
   ]
  },
  {
   "cell_type": "code",
   "execution_count": 0,
   "metadata": {
    "colab": {},
    "colab_type": "code",
    "id": "k3s-KB6nJMcl"
   },
   "outputs": [],
   "source": []
  },
  {
   "cell_type": "markdown",
   "metadata": {
    "colab_type": "text",
    "id": "RBNmHUT38DlO"
   },
   "source": [
    "###  迁移学习和微调"
   ]
  },
  {
   "cell_type": "code",
   "execution_count": 0,
   "metadata": {
    "colab": {},
    "colab_type": "code",
    "id": "xrurFgAI8KsW"
   },
   "outputs": [],
   "source": [
    "'''\n",
    "这里的base_model和model里面的iv3都指向同一个地址\n",
    "'''\n",
    "def setup_to_transfer_learning(model,base_model):#base_model 迁移模型\n",
    "    for layer in base_model.layers:\n",
    "        layer.trainable = False\n",
    "    model.compile(optimizer='adam',loss='categorical_crossentropy',metrics=['accuracy'])\n",
    "\n",
    "def setup_to_fine_tune(model,base_model):#微调\n",
    "    GAP_LAYER = 17 # max_pooling_2d_2\n",
    "    for layer in base_model.layers[:GAP_LAYER+1]:\n",
    "        layer.trainable = False\n",
    "    for layer in base_model.layers[GAP_LAYER+1:]:\n",
    "        layer.trainable = True\n",
    "    opt = keras.optimizers.rmsprop(lr=0.0001, decay=1e-6)\n",
    "    model.compile(optimizer=opt,loss='categorical_crossentropy',metrics=['accuracy'])\n"
   ]
  },
  {
   "cell_type": "code",
   "execution_count": 14,
   "metadata": {
    "colab": {
     "base_uri": "https://localhost:8080/",
     "height": 35
    },
    "colab_type": "code",
    "id": "h5TCS5XZ-2i9",
    "outputId": "b893c2f6-7e7f-4d9a-fa9a-ff907c807c36"
   },
   "outputs": [
    {
     "name": "stdout",
     "output_type": "stream",
     "text": [
      "Found 279 images belonging to 3 classes.\n"
     ]
    }
   ],
   "source": [
    "test_generator = test_datagen.flow_from_directory(test_data_dir, \n",
    "                                                  target_size=(224, 224),\n",
    "                                                  batch_size=1,class_mode='categorical', \n",
    "                                                  shuffle=False,)\n",
    "labels = (test_generator.class_indices)"
   ]
  },
  {
   "cell_type": "code",
   "execution_count": 0,
   "metadata": {
    "colab": {},
    "colab_type": "code",
    "id": "GTeCFnGp9bNK"
   },
   "outputs": [],
   "source": [
    "# 将矩阵转换成文字\n",
    "def pre(preds):\n",
    "  if preds[0][0]==1 and preds[0][1]==0 and preds[0][2]==0:\n",
    "    return '无剐蹭'\n",
    "  elif preds[0][0]==0 and preds[0][1]==1 and preds[0][2]==0:\n",
    "    return '存在其他损伤'\n",
    "  elif preds[0][0]==0 and preds[0][1]==0 and preds[0][2]==1:\n",
    "    return '存在剐蹭'\n",
    "  else:\n",
    "    return 'error'"
   ]
  },
  {
   "cell_type": "code",
   "execution_count": 0,
   "metadata": {
    "colab": {},
    "colab_type": "code",
    "id": "45ifY5Kat-ly"
   },
   "outputs": [],
   "source": [
    "from sklearn.metrics import classification_report  "
   ]
  },
  {
   "cell_type": "markdown",
   "metadata": {
    "colab_type": "text",
    "id": "owtjquvh8NKn"
   },
   "source": [
    "# InceptionV3、ResNet50、VGG16、CNN"
   ]
  },
  {
   "cell_type": "markdown",
   "metadata": {
    "colab_type": "text",
    "id": "nq7u04qdB_Q1"
   },
   "source": [
    "##  InceptionV3"
   ]
  },
  {
   "cell_type": "code",
   "execution_count": 0,
   "metadata": {
    "colab": {},
    "colab_type": "code",
    "id": "uP0-iDRz8_0o"
   },
   "outputs": [],
   "source": [
    "from keras.applications.inception_v3 import InceptionV3\n",
    "import numpy as np\n",
    "from keras.applications.inception_v3 import preprocess_input\n",
    "from keras.applications.inception_v3 import decode_predictions\n",
    "from keras.preprocessing import image\n",
    "import numpy as np"
   ]
  },
  {
   "cell_type": "code",
   "execution_count": 0,
   "metadata": {
    "colab": {
     "base_uri": "https://localhost:8080/",
     "height": 73
    },
    "colab_type": "code",
    "id": "AQGqZTkDBtjl",
    "outputId": "2a2525b7-d5e5-49c6-e8fb-30e93a2f674c"
   },
   "outputs": [
    {
     "name": "stderr",
     "output_type": "stream",
     "text": [
      "/usr/local/lib/python3.6/dist-packages/ipykernel_launcher.py:11: UserWarning: Update your `Model` call to the Keras 2 API: `Model(inputs=Tensor(\"in..., outputs=Tensor(\"de...)`\n",
      "  # This is added back by InteractiveShellApp.init_path()\n"
     ]
    }
   ],
   "source": [
    "# create the base pre-trained model\n",
    "base_model = InceptionV3(weights='imagenet', include_top=False)\n",
    "# add a global spatial average pooling layer\n",
    "x = base_model.output\n",
    "x = GlobalAveragePooling2D()(x)\n",
    "# let's add a fully-connected layer\n",
    "x = Dense(1024, activation='relu')(x)\n",
    "# and a logistic layer -- let's say we have 200 classes\n",
    "predictions = Dense(nb_classes, activation='softmax')(x)\n",
    "\n",
    "# this is the model we will train\n",
    "model = Model(input=base_model.input, output=predictions)\n",
    "\n",
    "# first: train only the top layers (which were randomly initialized), i.e. freeze all convolutional InceptionV3 layers\n",
    "for layer in base_model.layers: layer.trainable = False\n",
    "\n",
    "# compile the model (should be done *after* setting layers to non-trainable)\n",
    "#model.compile(optimizer='rmsprop', loss='categorical_crossentropy')\n",
    "model.compile(optimizer='rmsprop', loss='categorical_crossentropy', metrics=['accuracy'])"
   ]
  },
  {
   "cell_type": "code",
   "execution_count": 0,
   "metadata": {
    "colab": {},
    "colab_type": "code",
    "id": "IbfQa2aKF-NK"
   },
   "outputs": [],
   "source": [
    "setup_to_transfer_learning(model,base_model)\n",
    "from keras.callbacks import ModelCheckpoint\n",
    "checkpointer = ModelCheckpoint(filepath = 'data_v1/0122_inception_best_weights.hdf5',verbose=1\n",
    "                              ,save_best_only =True)"
   ]
  },
  {
   "cell_type": "code",
   "execution_count": 0,
   "metadata": {
    "colab": {
     "base_uri": "https://localhost:8080/",
     "height": 377
    },
    "colab_type": "code",
    "id": "sDlDlaiETJn8",
    "outputId": "26573581-db07-4042-d3d2-73d44dfc79fe"
   },
   "outputs": [
    {
     "name": "stdout",
     "output_type": "stream",
     "text": [
      "Epoch 1/10\n",
      "100/100 [==============================] - 27s 266ms/step - loss: 0.0827 - acc: 0.9669 - val_loss: 2.5331 - val_acc: 0.6383\n",
      "Epoch 2/10\n",
      "100/100 [==============================] - 26s 262ms/step - loss: 0.0965 - acc: 0.9574 - val_loss: 1.8363 - val_acc: 0.6223\n",
      "Epoch 3/10\n",
      "100/100 [==============================] - 26s 259ms/step - loss: 0.1708 - acc: 0.9365 - val_loss: 0.7942 - val_acc: 0.7660\n",
      "Epoch 4/10\n",
      "100/100 [==============================] - 27s 266ms/step - loss: 0.1323 - acc: 0.9493 - val_loss: 0.8541 - val_acc: 0.7609\n",
      "Epoch 5/10\n",
      "100/100 [==============================] - 26s 261ms/step - loss: 0.1192 - acc: 0.9561 - val_loss: 1.3665 - val_acc: 0.7128\n",
      "Epoch 6/10\n",
      "100/100 [==============================] - 26s 265ms/step - loss: 0.0644 - acc: 0.9775 - val_loss: 1.4279 - val_acc: 0.7553\n",
      "Epoch 7/10\n",
      "100/100 [==============================] - 26s 263ms/step - loss: 0.1154 - acc: 0.9578 - val_loss: 1.2994 - val_acc: 0.7128\n",
      "Epoch 8/10\n",
      "100/100 [==============================] - 26s 259ms/step - loss: 0.0583 - acc: 0.9837 - val_loss: 1.1887 - val_acc: 0.7234\n",
      "Epoch 9/10\n",
      "100/100 [==============================] - 26s 259ms/step - loss: 0.1067 - acc: 0.9621 - val_loss: 1.3076 - val_acc: 0.7500\n",
      "Epoch 10/10\n",
      "100/100 [==============================] - 26s 265ms/step - loss: 0.1098 - acc: 0.9546 - val_loss: 1.1511 - val_acc: 0.6915\n"
     ]
    }
   ],
   "source": [
    "\n",
    "history_tl = model.fit_generator(generator=train_generator,\n",
    "                    steps_per_epoch=100,\n",
    "                    epochs=10,\n",
    "                    validation_data=validation_generator,\n",
    "                    validation_steps=12,#12\n",
    "                    class_weight='auto'\n",
    "                    )\n",
    "model.save('data_v1/car_iv3_tl.h5')#存放训练好的权重\n",
    "\n"
   ]
  },
  {
   "cell_type": "code",
   "execution_count": 0,
   "metadata": {
    "colab": {},
    "colab_type": "code",
    "id": "nTtbnMcgV47a"
   },
   "outputs": [],
   "source": [
    "setup_to_fine_tune(model,base_model)\n"
   ]
  },
  {
   "cell_type": "code",
   "execution_count": 0,
   "metadata": {
    "colab": {
     "base_uri": "https://localhost:8080/",
     "height": 89
    },
    "colab_type": "code",
    "id": "OIMPCi1LW_BU",
    "outputId": "e417f9aa-70ac-4826-8a2b-3cd4cb390443"
   },
   "outputs": [
    {
     "name": "stdout",
     "output_type": "stream",
     "text": [
      "Epoch 1/2\n",
      "800/800 [==============================] - 479s 598ms/step - loss: 0.0775 - acc: 0.9771 - val_loss: 0.5258 - val_acc: 0.8125\n",
      "Epoch 2/2\n",
      "800/800 [==============================] - 462s 577ms/step - loss: 0.0256 - acc: 0.9935 - val_loss: 2.4321 - val_acc: 0.8125\n"
     ]
    }
   ],
   "source": [
    "history_ft = model.fit_generator(generator=train_generator,\n",
    "                                 steps_per_epoch=800,\n",
    "                                 epochs=2,\n",
    "                                 validation_data=validation_generator,\n",
    "                                 validation_steps=1,\n",
    "                                 class_weight='auto')\n",
    "model.save('0121/car_iv3_ft.h5')#存放训练好的权重\n"
   ]
  },
  {
   "cell_type": "code",
   "execution_count": 0,
   "metadata": {
    "colab": {
     "base_uri": "https://localhost:8080/",
     "height": 35
    },
    "colab_type": "code",
    "id": "JlU4litwex5y",
    "outputId": "2fa7a924-8203-4dc3-ced2-69673165ed46"
   },
   "outputs": [
    {
     "name": "stdout",
     "output_type": "stream",
     "text": [
      "Accuracy =  0.8653846155756559\n"
     ]
    }
   ],
   "source": [
    "scoreSeg = model.evaluate_generator(validation_generator, 400)\n",
    "print(\"Accuracy = \",scoreSeg[1])"
   ]
  },
  {
   "cell_type": "code",
   "execution_count": 0,
   "metadata": {
    "colab": {},
    "colab_type": "code",
    "id": "VVJvd7-5yplD"
   },
   "outputs": [],
   "source": [
    "model.load_weights('0121/car_iv3_ft.h5')#调用训练好权重"
   ]
  },
  {
   "cell_type": "code",
   "execution_count": 0,
   "metadata": {
    "colab": {},
    "colab_type": "code",
    "id": "U1GqSYmStwpK"
   },
   "outputs": [],
   "source": [
    "image_path = \"data_v1/分类数据/test/scratch/125.jpg\""
   ]
  },
  {
   "cell_type": "code",
   "execution_count": 0,
   "metadata": {
    "colab": {},
    "colab_type": "code",
    "id": "flCTrfY8twyW"
   },
   "outputs": [],
   "source": [
    "\n",
    "img = image.load_img(image_path,target_size=(224,224))\n",
    "x = image.img_to_array(img)\n",
    "x = np.expand_dims(x, axis=0)\n",
    "x = preprocess_input(x)\n",
    "preds = model.predict(x)"
   ]
  },
  {
   "cell_type": "code",
   "execution_count": 0,
   "metadata": {
    "colab": {},
    "colab_type": "code",
    "id": "fPotB6gdtxGc"
   },
   "outputs": [],
   "source": [
    "preds = np.trunc(preds)"
   ]
  },
  {
   "cell_type": "code",
   "execution_count": 0,
   "metadata": {
    "colab": {
     "base_uri": "https://localhost:8080/",
     "height": 251
    },
    "colab_type": "code",
    "id": "qkRbL3ix11-n",
    "outputId": "f6008c09-e054-4ffd-da17-95217f2b89b8"
   },
   "outputs": [
    {
     "name": "stdout",
     "output_type": "stream",
     "text": [
      "经由模型判断，图片类别为： 存在剐蹭\n"
     ]
    },
    {
     "data": {
      "text/plain": [
       "<matplotlib.image.AxesImage at 0x7f09c5c84898>"
      ]
     },
     "execution_count": 35,
     "metadata": {
      "tags": []
     },
     "output_type": "execute_result"
    },
    {
     "data": {
      "image/png": "[encoded data removed]",
      "text/plain": [
       "<Figure size 216x216 with 1 Axes>"
      ]
     },
     "metadata": {
      "tags": []
     },
     "output_type": "display_data"
    }
   ],
   "source": [
    "print(\"经由模型判断，图片类别为：\",pre(preds))\n",
    "plt.figure(figsize = (3,3))\n",
    "plt.imshow(img)"
   ]
  },
  {
   "cell_type": "code",
   "execution_count": 0,
   "metadata": {
    "colab": {
     "base_uri": "https://localhost:8080/",
     "height": 35
    },
    "colab_type": "code",
    "id": "F8X42PSmkh7N",
    "outputId": "715ec24a-3ca0-4fe0-bf45-653bc9bc3abf"
   },
   "outputs": [
    {
     "name": "stdout",
     "output_type": "stream",
     "text": [
      "279/279 [==============================] - 23s 82ms/step\n"
     ]
    }
   ],
   "source": [
    "#测试\n",
    "test_generator.reset()\n",
    "pred = model.predict_generator(test_generator,279, verbose=1)#生成step个数据，下面是对应的标签\n",
    "\n",
    "predicted_class_indices = np.argmax(pred, axis=1)"
   ]
  },
  {
   "cell_type": "code",
   "execution_count": 32,
   "metadata": {
    "colab": {
     "base_uri": "https://localhost:8080/",
     "height": 191
    },
    "colab_type": "code",
    "id": "U4wjiqg2NVEP",
    "outputId": "9cc88176-48ad-410a-ddf1-8fa7a9033e6c"
   },
   "outputs": [
    {
     "ename": "NameError",
     "evalue": "ignored",
     "output_type": "error",
     "traceback": [
      "\u001b[0;31m---------------------------------------------------------------------------\u001b[0m",
      "\u001b[0;31mNameError\u001b[0m                                 Traceback (most recent call last)",
      "\u001b[0;32m<ipython-input-32-332ca9c4513b>\u001b[0m in \u001b[0;36m<module>\u001b[0;34m()\u001b[0m\n\u001b[1;32m      1\u001b[0m \u001b[0mA1\u001b[0m\u001b[0;34m=\u001b[0m\u001b[0mlist\u001b[0m\u001b[0;34m(\u001b[0m\u001b[0mA\u001b[0m\u001b[0;34m)\u001b[0m\u001b[0;34m\u001b[0m\u001b[0;34m\u001b[0m\u001b[0m\n\u001b[0;32m----> 2\u001b[0;31m \u001b[0mB1\u001b[0m\u001b[0;34m=\u001b[0m\u001b[0mlist\u001b[0m\u001b[0;34m(\u001b[0m\u001b[0mpredicted_class_indices\u001b[0m\u001b[0;34m)\u001b[0m\u001b[0;34m\u001b[0m\u001b[0;34m\u001b[0m\u001b[0m\n\u001b[0m",
      "\u001b[0;31mNameError\u001b[0m: name 'predicted_class_indices' is not defined"
     ]
    }
   ],
   "source": [
    "A1=list(A)\n",
    "B1=list(predicted_class_indices)\n"
   ]
  },
  {
   "cell_type": "code",
   "execution_count": 0,
   "metadata": {
    "colab": {
     "base_uri": "https://localhost:8080/",
     "height": 197
    },
    "colab_type": "code",
    "id": "mGS6RUCi_koC",
    "outputId": "b80f8a9b-17f5-4a2e-8322-f53297a4f12d"
   },
   "outputs": [
    {
     "name": "stdout",
     "output_type": "stream",
     "text": [
      "              precision    recall  f1-score   support\n",
      "\n",
      "    good_car       0.99      0.84      0.91       112\n",
      "     scratch       0.89      0.32      0.47        25\n",
      "       other       0.81      0.99      0.89       142\n",
      "\n",
      "   micro avg       0.87      0.87      0.87       279\n",
      "   macro avg       0.89      0.72      0.76       279\n",
      "weighted avg       0.89      0.87      0.86       279\n",
      "\n"
     ]
    }
   ],
   "source": [
    "#求precision、recall、f1-score\n",
    "  \n",
    "print(classification_report(A1,B1, target_names=['good_car',  'scratch','other']))  \n"
   ]
  },
  {
   "cell_type": "markdown",
   "metadata": {
    "colab_type": "text",
    "id": "G2zfaK6oED1n"
   },
   "source": [
    "## restnet50"
   ]
  },
  {
   "cell_type": "code",
   "execution_count": 0,
   "metadata": {
    "colab": {},
    "colab_type": "code",
    "id": "34NQ9WVfxXWK"
   },
   "outputs": [],
   "source": [
    "from keras.applications.resnet50 import ResNet50\n",
    "from keras.preprocessing import image\n",
    "from keras.applications.resnet50 import preprocess_input, decode_predictions\n",
    "import numpy as np\n",
    "from pdb import set_trace as dd\n",
    "from keras.applications.inception_v3 import InceptionV3\n",
    "from keras.preprocessing import image\n",
    "from keras.models import Model\n",
    "from keras.layers import Dense, GlobalAveragePooling2D\n",
    "from keras import backend as K\n",
    "from keras.preprocessing.image import ImageDataGenerator\n",
    "from keras.layers import Input\n",
    "from keras.models import Sequential\n",
    "from keras.layers import Conv2D, MaxPooling2D\n",
    "from keras.layers import Activation, Dropout, Flatten, Dense\n",
    "from keras import backend as K\n",
    "import h5py\n",
    "from keras import optimizers\n"
   ]
  },
  {
   "cell_type": "code",
   "execution_count": 18,
   "metadata": {
    "colab": {
     "base_uri": "https://localhost:8080/",
     "height": 109
    },
    "colab_type": "code",
    "id": "q7c44RFiCPmZ",
    "outputId": "217a8b34-ccf3-435e-93cd-2e6e0733b7b3"
   },
   "outputs": [
    {
     "name": "stderr",
     "output_type": "stream",
     "text": [
      "/usr/local/lib/python3.6/dist-packages/keras_applications/resnet50.py:265: UserWarning: The output shape of `ResNet50(include_top=False)` has been changed since Keras 2.2.0.\n",
      "  warnings.warn('The output shape of `ResNet50(include_top=False)` '\n"
     ]
    },
    {
     "name": "stdout",
     "output_type": "stream",
     "text": [
      "Downloading data from https://github.com/fchollet/deep-learning-models/releases/download/v0.2/resnet50_weights_tf_dim_ordering_tf_kernels_notop.h5\n",
      "94658560/94653016 [==============================] - 1s 0us/step\n"
     ]
    }
   ],
   "source": [
    "input_tensor = Input(shape=(224, 224, 3))    \n",
    "base_model = ResNet50(input_tensor=input_tensor,include_top=False,weights='imagenet')    \n",
    "#base_model = ResNet50(input_tensor=input_tensor,include_top=False,weights=None)    \n",
    "get_resnet50_output = K.function([base_model.layers[0].input, K.learning_phase()],                              \n",
    "                                 [base_model.layers[-1].output])\n",
    "input_tensor = Input(shape=(224, 224, 3))    \n",
    "x = Flatten()(input_tensor)   \n",
    "\n",
    "x = Dense(1024, activation='relu')(x)    \n",
    "predictions = Dense(3, activation='softmax')(x)       \n",
    "model = Model(inputs=input_tensor, outputs=predictions)    \n",
    "model.compile(optimizer=Adam(), loss='categorical_crossentropy',metrics=['accuracy'])\n"
   ]
  },
  {
   "cell_type": "code",
   "execution_count": 0,
   "metadata": {
    "colab": {
     "base_uri": "https://localhost:8080/",
     "height": 89
    },
    "colab_type": "code",
    "id": "39S0sdY8CP2b",
    "outputId": "5a05d6f6-744f-468e-fd4c-80a1dc61ae63"
   },
   "outputs": [
    {
     "name": "stdout",
     "output_type": "stream",
     "text": [
      "Found 794 images belonging to 3 classes.\n",
      "Found 156 images belonging to 3 classes.\n",
      "Found 279 images belonging to 3 classes.\n",
      "start history model\n"
     ]
    }
   ],
   "source": [
    "img_width,img_height=(224,224)\n",
    "# prepare data augmentation configuration\n",
    "train_datagen = ImageDataGenerator( rescale=1./255)#,\n",
    " #       shear_range=0.2,\n",
    " #       zoom_range=0.2,\n",
    " #       horizontal_flip=True)\n",
    "\n",
    "test_datagen = ImageDataGenerator(rescale=1./255)\n",
    "\n",
    "train_generator = train_datagen.flow_from_directory(\n",
    "    train_data_dir,\n",
    "    target_size=(img_width, img_height),\n",
    "    batch_size=16,\n",
    "    class_mode='categorical'\n",
    ")\n",
    "\n",
    "validation_generator = test_datagen.flow_from_directory(\n",
    "    validation_data_dir,\n",
    "    target_size=(img_width, img_height),\n",
    "    batch_size=16,\n",
    "    class_mode='categorical'\n",
    ")\n",
    "test_generator = test_datagen.flow_from_directory(\n",
    "    test_data_dir,\n",
    "    target_size=(img_width, img_height),\n",
    "    batch_size=16,\n",
    "    class_mode='categorical'\n",
    ")\n",
    "print( \"start history model\")\n"
   ]
  },
  {
   "cell_type": "code",
   "execution_count": 0,
   "metadata": {
    "colab": {},
    "colab_type": "code",
    "id": "p01aM7eeKki9"
   },
   "outputs": [],
   "source": [
    "setup_to_transfer_learning(model,base_model)\n"
   ]
  },
  {
   "cell_type": "code",
   "execution_count": 0,
   "metadata": {
    "colab": {
     "base_uri": "https://localhost:8080/",
     "height": 1543
    },
    "colab_type": "code",
    "id": "PHQtQGKiCQDc",
    "outputId": "74d63c0f-18f8-4124-96b9-94b7fb92fe2f"
   },
   "outputs": [
    {
     "name": "stdout",
     "output_type": "stream",
     "text": [
      "Epoch 1/50\n",
      "100/100 [==============================] - 53s 529ms/step - loss: 9.2614 - acc: 0.4193 - val_loss: 9.6880 - val_acc: 0.3989\n",
      "Epoch 2/50\n",
      "100/100 [==============================] - 29s 288ms/step - loss: 9.3464 - acc: 0.4201 - val_loss: 9.9452 - val_acc: 0.3830\n",
      "Epoch 3/50\n",
      "100/100 [==============================] - 28s 285ms/step - loss: 9.3344 - acc: 0.4209 - val_loss: 9.0879 - val_acc: 0.4362\n",
      "Epoch 4/50\n",
      "100/100 [==============================] - 28s 276ms/step - loss: 9.3524 - acc: 0.4198 - val_loss: 10.3739 - val_acc: 0.3564\n",
      "Epoch 5/50\n",
      "100/100 [==============================] - 28s 283ms/step - loss: 9.3404 - acc: 0.4205 - val_loss: 9.4606 - val_acc: 0.4130\n",
      "Epoch 6/50\n",
      "100/100 [==============================] - 28s 276ms/step - loss: 9.3284 - acc: 0.4212 - val_loss: 9.8595 - val_acc: 0.3883\n",
      "Epoch 7/50\n",
      "100/100 [==============================] - 29s 286ms/step - loss: 9.3225 - acc: 0.4216 - val_loss: 10.0309 - val_acc: 0.3777\n",
      "Epoch 8/50\n",
      "100/100 [==============================] - 28s 275ms/step - loss: 9.3344 - acc: 0.4209 - val_loss: 9.6880 - val_acc: 0.3989\n",
      "Epoch 9/50\n",
      "100/100 [==============================] - 28s 280ms/step - loss: 9.3344 - acc: 0.4209 - val_loss: 9.3451 - val_acc: 0.4202\n",
      "Epoch 10/50\n",
      "100/100 [==============================] - 28s 279ms/step - loss: 9.3524 - acc: 0.4198 - val_loss: 9.6358 - val_acc: 0.4022\n",
      "Epoch 11/50\n",
      " 89/100 [=========================>....] - ETA: 3s - loss: 9.3743 - acc: 0.4184"
     ]
    },
    {
     "ename": "KeyboardInterrupt",
     "evalue": "ignored",
     "output_type": "error",
     "traceback": [
      "\u001b[0;31m---------------------------------------------------------------------------\u001b[0m",
      "\u001b[0;31mKeyboardInterrupt\u001b[0m                         Traceback (most recent call last)",
      "\u001b[0;32m<ipython-input-88-ea77ed5097f6>\u001b[0m in \u001b[0;36m<module>\u001b[0;34m()\u001b[0m\n\u001b[1;32m      4\u001b[0m                     \u001b[0mvalidation_data\u001b[0m\u001b[0;34m=\u001b[0m\u001b[0mvalidation_generator\u001b[0m\u001b[0;34m,\u001b[0m\u001b[0;34m\u001b[0m\u001b[0;34m\u001b[0m\u001b[0m\n\u001b[1;32m      5\u001b[0m                     \u001b[0mvalidation_steps\u001b[0m\u001b[0;34m=\u001b[0m\u001b[0;36m12\u001b[0m\u001b[0;34m,\u001b[0m\u001b[0;31m#12\u001b[0m\u001b[0;34m\u001b[0m\u001b[0;34m\u001b[0m\u001b[0m\n\u001b[0;32m----> 6\u001b[0;31m                     \u001b[0mclass_weight\u001b[0m\u001b[0;34m=\u001b[0m\u001b[0;34m'auto'\u001b[0m\u001b[0;34m\u001b[0m\u001b[0;34m\u001b[0m\u001b[0m\n\u001b[0m\u001b[1;32m      7\u001b[0m                     )\n\u001b[1;32m      8\u001b[0m \u001b[0mmodel\u001b[0m\u001b[0;34m.\u001b[0m\u001b[0msave\u001b[0m\u001b[0;34m(\u001b[0m\u001b[0;34m'data_v1/car_res_tl.h5'\u001b[0m\u001b[0;34m)\u001b[0m\u001b[0;34m\u001b[0m\u001b[0;34m\u001b[0m\u001b[0m\n",
      "\u001b[0;32m/usr/local/lib/python3.6/dist-packages/keras/legacy/interfaces.py\u001b[0m in \u001b[0;36mwrapper\u001b[0;34m(*args, **kwargs)\u001b[0m\n\u001b[1;32m     89\u001b[0m                 warnings.warn('Update your `' + object_name + '` call to the ' +\n\u001b[1;32m     90\u001b[0m                               'Keras 2 API: ' + signature, stacklevel=2)\n\u001b[0;32m---> 91\u001b[0;31m             \u001b[0;32mreturn\u001b[0m \u001b[0mfunc\u001b[0m\u001b[0;34m(\u001b[0m\u001b[0;34m*\u001b[0m\u001b[0margs\u001b[0m\u001b[0;34m,\u001b[0m \u001b[0;34m**\u001b[0m\u001b[0mkwargs\u001b[0m\u001b[0;34m)\u001b[0m\u001b[0;34m\u001b[0m\u001b[0;34m\u001b[0m\u001b[0m\n\u001b[0m\u001b[1;32m     92\u001b[0m         \u001b[0mwrapper\u001b[0m\u001b[0;34m.\u001b[0m\u001b[0m_original_function\u001b[0m \u001b[0;34m=\u001b[0m \u001b[0mfunc\u001b[0m\u001b[0;34m\u001b[0m\u001b[0;34m\u001b[0m\u001b[0m\n\u001b[1;32m     93\u001b[0m         \u001b[0;32mreturn\u001b[0m \u001b[0mwrapper\u001b[0m\u001b[0;34m\u001b[0m\u001b[0;34m\u001b[0m\u001b[0m\n",
      "\u001b[0;32m/usr/local/lib/python3.6/dist-packages/keras/engine/training.py\u001b[0m in \u001b[0;36mfit_generator\u001b[0;34m(self, generator, steps_per_epoch, epochs, verbose, callbacks, validation_data, validation_steps, class_weight, max_queue_size, workers, use_multiprocessing, shuffle, initial_epoch)\u001b[0m\n\u001b[1;32m   1416\u001b[0m             \u001b[0muse_multiprocessing\u001b[0m\u001b[0;34m=\u001b[0m\u001b[0muse_multiprocessing\u001b[0m\u001b[0;34m,\u001b[0m\u001b[0;34m\u001b[0m\u001b[0;34m\u001b[0m\u001b[0m\n\u001b[1;32m   1417\u001b[0m             \u001b[0mshuffle\u001b[0m\u001b[0;34m=\u001b[0m\u001b[0mshuffle\u001b[0m\u001b[0;34m,\u001b[0m\u001b[0;34m\u001b[0m\u001b[0;34m\u001b[0m\u001b[0m\n\u001b[0;32m-> 1418\u001b[0;31m             initial_epoch=initial_epoch)\n\u001b[0m\u001b[1;32m   1419\u001b[0m \u001b[0;34m\u001b[0m\u001b[0m\n\u001b[1;32m   1420\u001b[0m     \u001b[0;34m@\u001b[0m\u001b[0minterfaces\u001b[0m\u001b[0;34m.\u001b[0m\u001b[0mlegacy_generator_methods_support\u001b[0m\u001b[0;34m\u001b[0m\u001b[0;34m\u001b[0m\u001b[0m\n",
      "\u001b[0;32m/usr/local/lib/python3.6/dist-packages/keras/engine/training_generator.py\u001b[0m in \u001b[0;36mfit_generator\u001b[0;34m(model, generator, steps_per_epoch, epochs, verbose, callbacks, validation_data, validation_steps, class_weight, max_queue_size, workers, use_multiprocessing, shuffle, initial_epoch)\u001b[0m\n\u001b[1;32m    215\u001b[0m                 outs = model.train_on_batch(x, y,\n\u001b[1;32m    216\u001b[0m                                             \u001b[0msample_weight\u001b[0m\u001b[0;34m=\u001b[0m\u001b[0msample_weight\u001b[0m\u001b[0;34m,\u001b[0m\u001b[0;34m\u001b[0m\u001b[0;34m\u001b[0m\u001b[0m\n\u001b[0;32m--> 217\u001b[0;31m                                             class_weight=class_weight)\n\u001b[0m\u001b[1;32m    218\u001b[0m \u001b[0;34m\u001b[0m\u001b[0m\n\u001b[1;32m    219\u001b[0m                 \u001b[0mouts\u001b[0m \u001b[0;34m=\u001b[0m \u001b[0mto_list\u001b[0m\u001b[0;34m(\u001b[0m\u001b[0mouts\u001b[0m\u001b[0;34m)\u001b[0m\u001b[0;34m\u001b[0m\u001b[0;34m\u001b[0m\u001b[0m\n",
      "\u001b[0;32m/usr/local/lib/python3.6/dist-packages/keras/engine/training.py\u001b[0m in \u001b[0;36mtrain_on_batch\u001b[0;34m(self, x, y, sample_weight, class_weight)\u001b[0m\n\u001b[1;32m   1215\u001b[0m             \u001b[0mins\u001b[0m \u001b[0;34m=\u001b[0m \u001b[0mx\u001b[0m \u001b[0;34m+\u001b[0m \u001b[0my\u001b[0m \u001b[0;34m+\u001b[0m \u001b[0msample_weights\u001b[0m\u001b[0;34m\u001b[0m\u001b[0;34m\u001b[0m\u001b[0m\n\u001b[1;32m   1216\u001b[0m         \u001b[0mself\u001b[0m\u001b[0;34m.\u001b[0m\u001b[0m_make_train_function\u001b[0m\u001b[0;34m(\u001b[0m\u001b[0;34m)\u001b[0m\u001b[0;34m\u001b[0m\u001b[0;34m\u001b[0m\u001b[0m\n\u001b[0;32m-> 1217\u001b[0;31m         \u001b[0moutputs\u001b[0m \u001b[0;34m=\u001b[0m \u001b[0mself\u001b[0m\u001b[0;34m.\u001b[0m\u001b[0mtrain_function\u001b[0m\u001b[0;34m(\u001b[0m\u001b[0mins\u001b[0m\u001b[0;34m)\u001b[0m\u001b[0;34m\u001b[0m\u001b[0;34m\u001b[0m\u001b[0m\n\u001b[0m\u001b[1;32m   1218\u001b[0m         \u001b[0;32mreturn\u001b[0m \u001b[0munpack_singleton\u001b[0m\u001b[0;34m(\u001b[0m\u001b[0moutputs\u001b[0m\u001b[0;34m)\u001b[0m\u001b[0;34m\u001b[0m\u001b[0;34m\u001b[0m\u001b[0m\n\u001b[1;32m   1219\u001b[0m \u001b[0;34m\u001b[0m\u001b[0m\n",
      "\u001b[0;32m/usr/local/lib/python3.6/dist-packages/keras/backend/tensorflow_backend.py\u001b[0m in \u001b[0;36m__call__\u001b[0;34m(self, inputs)\u001b[0m\n\u001b[1;32m   2713\u001b[0m                 \u001b[0;32mreturn\u001b[0m \u001b[0mself\u001b[0m\u001b[0;34m.\u001b[0m\u001b[0m_legacy_call\u001b[0m\u001b[0;34m(\u001b[0m\u001b[0minputs\u001b[0m\u001b[0;34m)\u001b[0m\u001b[0;34m\u001b[0m\u001b[0;34m\u001b[0m\u001b[0m\n\u001b[1;32m   2714\u001b[0m \u001b[0;34m\u001b[0m\u001b[0m\n\u001b[0;32m-> 2715\u001b[0;31m             \u001b[0;32mreturn\u001b[0m \u001b[0mself\u001b[0m\u001b[0;34m.\u001b[0m\u001b[0m_call\u001b[0m\u001b[0;34m(\u001b[0m\u001b[0minputs\u001b[0m\u001b[0;34m)\u001b[0m\u001b[0;34m\u001b[0m\u001b[0;34m\u001b[0m\u001b[0m\n\u001b[0m\u001b[1;32m   2716\u001b[0m         \u001b[0;32melse\u001b[0m\u001b[0;34m:\u001b[0m\u001b[0;34m\u001b[0m\u001b[0;34m\u001b[0m\u001b[0m\n\u001b[1;32m   2717\u001b[0m             \u001b[0;32mif\u001b[0m \u001b[0mpy_any\u001b[0m\u001b[0;34m(\u001b[0m\u001b[0mis_tensor\u001b[0m\u001b[0;34m(\u001b[0m\u001b[0mx\u001b[0m\u001b[0;34m)\u001b[0m \u001b[0;32mfor\u001b[0m \u001b[0mx\u001b[0m \u001b[0;32min\u001b[0m \u001b[0minputs\u001b[0m\u001b[0;34m)\u001b[0m\u001b[0;34m:\u001b[0m\u001b[0;34m\u001b[0m\u001b[0;34m\u001b[0m\u001b[0m\n",
      "\u001b[0;32m/usr/local/lib/python3.6/dist-packages/keras/backend/tensorflow_backend.py\u001b[0m in \u001b[0;36m_call\u001b[0;34m(self, inputs)\u001b[0m\n\u001b[1;32m   2673\u001b[0m             \u001b[0mfetched\u001b[0m \u001b[0;34m=\u001b[0m \u001b[0mself\u001b[0m\u001b[0;34m.\u001b[0m\u001b[0m_callable_fn\u001b[0m\u001b[0;34m(\u001b[0m\u001b[0;34m*\u001b[0m\u001b[0marray_vals\u001b[0m\u001b[0;34m,\u001b[0m \u001b[0mrun_metadata\u001b[0m\u001b[0;34m=\u001b[0m\u001b[0mself\u001b[0m\u001b[0;34m.\u001b[0m\u001b[0mrun_metadata\u001b[0m\u001b[0;34m)\u001b[0m\u001b[0;34m\u001b[0m\u001b[0;34m\u001b[0m\u001b[0m\n\u001b[1;32m   2674\u001b[0m         \u001b[0;32melse\u001b[0m\u001b[0;34m:\u001b[0m\u001b[0;34m\u001b[0m\u001b[0;34m\u001b[0m\u001b[0m\n\u001b[0;32m-> 2675\u001b[0;31m             \u001b[0mfetched\u001b[0m \u001b[0;34m=\u001b[0m \u001b[0mself\u001b[0m\u001b[0;34m.\u001b[0m\u001b[0m_callable_fn\u001b[0m\u001b[0;34m(\u001b[0m\u001b[0;34m*\u001b[0m\u001b[0marray_vals\u001b[0m\u001b[0;34m)\u001b[0m\u001b[0;34m\u001b[0m\u001b[0;34m\u001b[0m\u001b[0m\n\u001b[0m\u001b[1;32m   2676\u001b[0m         \u001b[0;32mreturn\u001b[0m \u001b[0mfetched\u001b[0m\u001b[0;34m[\u001b[0m\u001b[0;34m:\u001b[0m\u001b[0mlen\u001b[0m\u001b[0;34m(\u001b[0m\u001b[0mself\u001b[0m\u001b[0;34m.\u001b[0m\u001b[0moutputs\u001b[0m\u001b[0;34m)\u001b[0m\u001b[0;34m]\u001b[0m\u001b[0;34m\u001b[0m\u001b[0;34m\u001b[0m\u001b[0m\n\u001b[1;32m   2677\u001b[0m \u001b[0;34m\u001b[0m\u001b[0m\n",
      "\u001b[0;32m/usr/local/lib/python3.6/dist-packages/tensorflow/python/client/session.py\u001b[0m in \u001b[0;36m__call__\u001b[0;34m(self, *args, **kwargs)\u001b[0m\n\u001b[1;32m   1437\u001b[0m           ret = tf_session.TF_SessionRunCallable(\n\u001b[1;32m   1438\u001b[0m               \u001b[0mself\u001b[0m\u001b[0;34m.\u001b[0m\u001b[0m_session\u001b[0m\u001b[0;34m.\u001b[0m\u001b[0m_session\u001b[0m\u001b[0;34m,\u001b[0m \u001b[0mself\u001b[0m\u001b[0;34m.\u001b[0m\u001b[0m_handle\u001b[0m\u001b[0;34m,\u001b[0m \u001b[0margs\u001b[0m\u001b[0;34m,\u001b[0m \u001b[0mstatus\u001b[0m\u001b[0;34m,\u001b[0m\u001b[0;34m\u001b[0m\u001b[0;34m\u001b[0m\u001b[0m\n\u001b[0;32m-> 1439\u001b[0;31m               run_metadata_ptr)\n\u001b[0m\u001b[1;32m   1440\u001b[0m         \u001b[0;32mif\u001b[0m \u001b[0mrun_metadata\u001b[0m\u001b[0;34m:\u001b[0m\u001b[0;34m\u001b[0m\u001b[0;34m\u001b[0m\u001b[0m\n\u001b[1;32m   1441\u001b[0m           \u001b[0mproto_data\u001b[0m \u001b[0;34m=\u001b[0m \u001b[0mtf_session\u001b[0m\u001b[0;34m.\u001b[0m\u001b[0mTF_GetBuffer\u001b[0m\u001b[0;34m(\u001b[0m\u001b[0mrun_metadata_ptr\u001b[0m\u001b[0;34m)\u001b[0m\u001b[0;34m\u001b[0m\u001b[0;34m\u001b[0m\u001b[0m\n",
      "\u001b[0;31mKeyboardInterrupt\u001b[0m: "
     ]
    }
   ],
   "source": [
    "history_tl_2 = model.fit_generator(generator=train_generator,\n",
    "                    steps_per_epoch=100,#\n",
    "                    epochs=50,#2\n",
    "                    validation_data=validation_generator,\n",
    "                    validation_steps=12,#12\n",
    "                    class_weight='auto'\n",
    "                    )\n",
    "model.save('data_v1/car_res_tl.h5')\n"
   ]
  },
  {
   "cell_type": "code",
   "execution_count": 0,
   "metadata": {
    "colab": {},
    "colab_type": "code",
    "id": "m4MoTzs8CQP0"
   },
   "outputs": [],
   "source": []
  },
  {
   "cell_type": "code",
   "execution_count": 0,
   "metadata": {
    "colab": {},
    "colab_type": "code",
    "id": "1oH3ukGQCQa7"
   },
   "outputs": [],
   "source": []
  },
  {
   "cell_type": "code",
   "execution_count": 0,
   "metadata": {
    "colab": {},
    "colab_type": "code",
    "id": "ddvauQHOCQm0"
   },
   "outputs": [],
   "source": []
  },
  {
   "cell_type": "code",
   "execution_count": 0,
   "metadata": {
    "colab": {},
    "colab_type": "code",
    "id": "JOvjoh3v-P7k"
   },
   "outputs": [],
   "source": [
    "from keras.optimizers import SGD"
   ]
  },
  {
   "cell_type": "code",
   "execution_count": 20,
   "metadata": {
    "colab": {
     "base_uri": "https://localhost:8080/",
     "height": 109
    },
    "colab_type": "code",
    "id": "TKv22T3QEihk",
    "outputId": "c5f4647e-b623-40d4-87eb-a6a4b757749e"
   },
   "outputs": [
    {
     "name": "stderr",
     "output_type": "stream",
     "text": [
      "/usr/local/lib/python3.6/dist-packages/keras_applications/resnet50.py:265: UserWarning: The output shape of `ResNet50(include_top=False)` has been changed since Keras 2.2.0.\n",
      "  warnings.warn('The output shape of `ResNet50(include_top=False)` '\n",
      "/usr/local/lib/python3.6/dist-packages/ipykernel_launcher.py:11: UserWarning: Update your `Model` call to the Keras 2 API: `Model(inputs=Tensor(\"in..., outputs=Tensor(\"de...)`\n",
      "  # This is added back by InteractiveShellApp.init_path()\n"
     ]
    }
   ],
   "source": [
    "# create the base pre-trained model\n",
    "base_model = ResNet50(weights='imagenet', include_top=False)\n",
    "# add a global spatial average pooling layer\n",
    "x = base_model.output\n",
    "x = GlobalAveragePooling2D()(x)\n",
    "# let's add a fully-connected layer\n",
    "x = Dense(1024, activation='relu')(x)\n",
    "# and a logistic layer -- let's say we have 200 classes\n",
    "predictions = Dense(3, activation='softmax')(x)\n",
    "\n",
    "# this is the model we will train\n",
    "model_2 = Model(input=base_model.input, output=predictions)\n",
    "\n",
    "# first: train only the top layers (which were randomly initialized), i.e. freeze all convolutional InceptionV3 layers\n",
    "for layer in base_model.layers: layer.trainable = False\n",
    "\n",
    "# compile the model (should be done *after* setting layers to non-trainable)\n",
    "#model.compile(optimizer='rmsprop', loss='categorical_crossentropy')\n",
    "model_2.compile(optimizer=SGD(lr=0.0001, momentum=0.9), loss='categorical_crossentropy', metrics=['accuracy'])\n"
   ]
  },
  {
   "cell_type": "code",
   "execution_count": 0,
   "metadata": {
    "colab": {},
    "colab_type": "code",
    "id": "ZPNgmpin5IqH"
   },
   "outputs": [],
   "source": [
    "setup_to_transfer_learning(model_2,base_model)\n"
   ]
  },
  {
   "cell_type": "code",
   "execution_count": 23,
   "metadata": {
    "colab": {
     "base_uri": "https://localhost:8080/",
     "height": 737
    },
    "colab_type": "code",
    "id": "NyrGv38Nx0Qf",
    "outputId": "782f2692-f694-46a0-e3a8-195ec10cb219"
   },
   "outputs": [
    {
     "name": "stdout",
     "output_type": "stream",
     "text": [
      "Epoch 1/20\n",
      "800/800 [==============================] - 479s 599ms/step - loss: 0.0450 - acc: 0.9869 - val_loss: 13.7175 - val_acc: 0.1489\n",
      "Epoch 2/20\n",
      "800/800 [==============================] - 200s 251ms/step - loss: 0.0360 - acc: 0.9883 - val_loss: 13.7175 - val_acc: 0.1489\n",
      "Epoch 3/20\n",
      "800/800 [==============================] - 199s 249ms/step - loss: 0.0385 - acc: 0.9879 - val_loss: 14.0605 - val_acc: 0.1277\n",
      "Epoch 4/20\n",
      "800/800 [==============================] - 199s 249ms/step - loss: 0.0244 - acc: 0.9919 - val_loss: 13.8890 - val_acc: 0.1383\n",
      "Epoch 5/20\n",
      "800/800 [==============================] - 199s 249ms/step - loss: 0.0274 - acc: 0.9911 - val_loss: 13.8405 - val_acc: 0.1413\n",
      "Epoch 6/20\n",
      "800/800 [==============================] - 200s 249ms/step - loss: 0.0317 - acc: 0.9898 - val_loss: 13.9747 - val_acc: 0.1330\n",
      "Epoch 7/20\n",
      "800/800 [==============================] - 199s 249ms/step - loss: 0.0283 - acc: 0.9914 - val_loss: 13.7175 - val_acc: 0.1489\n",
      "Epoch 8/20\n",
      "800/800 [==============================] - 199s 248ms/step - loss: 0.0252 - acc: 0.9921 - val_loss: 13.8890 - val_acc: 0.1383\n",
      "Epoch 9/20\n",
      "800/800 [==============================] - 198s 248ms/step - loss: 0.0240 - acc: 0.9910 - val_loss: 13.8033 - val_acc: 0.1436\n",
      "Epoch 10/20\n",
      "800/800 [==============================] - 198s 248ms/step - loss: 0.0225 - acc: 0.9922 - val_loss: 13.8405 - val_acc: 0.1413\n",
      "Epoch 11/20\n",
      "800/800 [==============================] - 199s 249ms/step - loss: 0.0206 - acc: 0.9927 - val_loss: 13.8890 - val_acc: 0.1383\n",
      "Epoch 12/20\n",
      "800/800 [==============================] - 198s 247ms/step - loss: 0.0215 - acc: 0.9924 - val_loss: 13.7175 - val_acc: 0.1489\n",
      "Epoch 13/20\n",
      "800/800 [==============================] - 200s 250ms/step - loss: 0.0215 - acc: 0.9927 - val_loss: 13.7175 - val_acc: 0.1489\n",
      "Epoch 14/20\n",
      "800/800 [==============================] - 199s 249ms/step - loss: 0.0157 - acc: 0.9944 - val_loss: 13.9747 - val_acc: 0.1330\n",
      "Epoch 15/20\n",
      "800/800 [==============================] - 198s 247ms/step - loss: 0.0166 - acc: 0.9935 - val_loss: 13.9281 - val_acc: 0.1359\n",
      "Epoch 16/20\n",
      "800/800 [==============================] - 200s 250ms/step - loss: 0.0214 - acc: 0.9922 - val_loss: 13.8890 - val_acc: 0.1383\n",
      "Epoch 17/20\n",
      "800/800 [==============================] - 199s 249ms/step - loss: 0.0200 - acc: 0.9935 - val_loss: 13.7175 - val_acc: 0.1489\n",
      "Epoch 18/20\n",
      "800/800 [==============================] - 199s 249ms/step - loss: 0.0169 - acc: 0.9940 - val_loss: 13.8890 - val_acc: 0.1383\n",
      "Epoch 19/20\n",
      "800/800 [==============================] - 200s 250ms/step - loss: 0.0180 - acc: 0.9943 - val_loss: 13.9747 - val_acc: 0.1330\n",
      "Epoch 20/20\n",
      "800/800 [==============================] - 199s 249ms/step - loss: 0.0185 - acc: 0.9936 - val_loss: 13.7529 - val_acc: 0.1467\n"
     ]
    }
   ],
   "source": [
    "history_tl_2 = model_2.fit_generator(generator=train_generator,\n",
    "                    steps_per_epoch=800,#\n",
    "                    epochs=20,#2\n",
    "                    validation_data=validation_generator,\n",
    "                    validation_steps=12,#12\n",
    "                    class_weight='auto'\n",
    "                    )\n",
    "model_2.save('data_v1/car_res_tl.h5')\n"
   ]
  },
  {
   "cell_type": "code",
   "execution_count": 0,
   "metadata": {
    "colab": {},
    "colab_type": "code",
    "id": "9y-VIc6j5K08"
   },
   "outputs": [],
   "source": [
    " setup_to_fine_tune(model_2,base_model)\n"
   ]
  },
  {
   "cell_type": "code",
   "execution_count": 39,
   "metadata": {
    "colab": {
     "base_uri": "https://localhost:8080/",
     "height": 89
    },
    "colab_type": "code",
    "id": "kr1PjhBZyC1N",
    "outputId": "228df217-772d-4380-852f-57616be34842"
   },
   "outputs": [
    {
     "name": "stdout",
     "output_type": "stream",
     "text": [
      "Epoch 1/2\n",
      "800/800 [==============================] - 587s 733ms/step - loss: 0.0060 - acc: 0.9983 - val_loss: 8.0590 - val_acc: 0.5000\n",
      "Epoch 2/2\n",
      "800/800 [==============================] - 587s 734ms/step - loss: 0.0033 - acc: 0.9994 - val_loss: 10.2443 - val_acc: 0.1667\n"
     ]
    }
   ],
   "source": [
    "history_ft_2 = model_2.fit_generator(generator=train_generator,\n",
    "                                 steps_per_epoch=800,\n",
    "                                 epochs=2,\n",
    "                                 validation_data=validation_generator,\n",
    "                                 validation_steps=1,\n",
    "                                 class_weight='auto'\n",
    "                                    )\n",
    "model_2.save('data_v1/car_res_ft.h5')\n",
    "\n"
   ]
  },
  {
   "cell_type": "code",
   "execution_count": 27,
   "metadata": {
    "colab": {
     "base_uri": "https://localhost:8080/",
     "height": 35
    },
    "colab_type": "code",
    "id": "zVjZs5kc1SKZ",
    "outputId": "e7a668e8-0b10-47cd-beb4-5bb17f7ab532"
   },
   "outputs": [
    {
     "name": "stdout",
     "output_type": "stream",
     "text": [
      "Accuracy =  0.0625\n"
     ]
    }
   ],
   "source": [
    "scoreSeg = model_2.evaluate_generator(test_generator, 400)\n",
    "print(\"Accuracy = \",scoreSeg[1])"
   ]
  },
  {
   "cell_type": "code",
   "execution_count": 0,
   "metadata": {
    "colab": {},
    "colab_type": "code",
    "id": "YyxD8mbziShN"
   },
   "outputs": [],
   "source": []
  },
  {
   "cell_type": "code",
   "execution_count": 0,
   "metadata": {
    "colab": {},
    "colab_type": "code",
    "id": "PJM_4T8ONGgK"
   },
   "outputs": [],
   "source": [
    "test_generator.reset()"
   ]
  },
  {
   "cell_type": "code",
   "execution_count": 0,
   "metadata": {
    "colab": {},
    "colab_type": "code",
    "id": "DdxQ-T6_Mi1q"
   },
   "outputs": [],
   "source": [
    "model_2.load_weights('data_v1/car_res_ft.h5')#调用训练好权重"
   ]
  },
  {
   "cell_type": "code",
   "execution_count": 36,
   "metadata": {
    "colab": {
     "base_uri": "https://localhost:8080/",
     "height": 35
    },
    "colab_type": "code",
    "id": "k4bUYvVGx0ca",
    "outputId": "0e12ac87-eb3a-45c2-ef1b-34fbbc2872b1"
   },
   "outputs": [
    {
     "name": "stdout",
     "output_type": "stream",
     "text": [
      "279/279 [==============================] - 8s 29ms/step\n"
     ]
    }
   ],
   "source": [
    "pred_2 = model_2.predict_generator(test_generator,279, verbose=1)#生成step个数据，下面是对应的标签\n",
    "\n",
    "predicted_class_indices_2 = np.argmax(pred_2, axis=1)"
   ]
  },
  {
   "cell_type": "code",
   "execution_count": 37,
   "metadata": {
    "colab": {
     "base_uri": "https://localhost:8080/",
     "height": 35
    },
    "colab_type": "code",
    "id": "251PFtGUD8_K",
    "outputId": "078a7813-2ffe-42a3-b164-9f61669e9179"
   },
   "outputs": [
    {
     "data": {
      "text/plain": [
       "279"
      ]
     },
     "execution_count": 37,
     "metadata": {
      "tags": []
     },
     "output_type": "execute_result"
    }
   ],
   "source": [
    " len(predicted_class_indices_2)"
   ]
  },
  {
   "cell_type": "code",
   "execution_count": null,
   "metadata": {},
   "outputs": [],
   "source": [
    "print(classification_report(A1,list(predicted_class_indices_2), target_names=['good_car',  'scratch','other']))  "
   ]
  },
  {
   "cell_type": "code",
   "execution_count": 0,
   "metadata": {
    "colab": {},
    "colab_type": "code",
    "id": "541XKWxeNjQr"
   },
   "outputs": [],
   "source": [
    "  "
   ]
  },
  {
   "cell_type": "markdown",
   "metadata": {
    "colab_type": "text",
    "id": "lpfoJbmSJ_6N"
   },
   "source": [
    "## VGG16"
   ]
  },
  {
   "cell_type": "code",
   "execution_count": 0,
   "metadata": {
    "colab": {
     "base_uri": "https://localhost:8080/",
     "height": 73
    },
    "colab_type": "code",
    "id": "ew25rDd4Kdy7",
    "outputId": "08914cc6-81ef-4325-f5f2-40643612d765"
   },
   "outputs": [
    {
     "name": "stdout",
     "output_type": "stream",
     "text": [
      "Downloading data from https://github.com/fchollet/deep-learning-models/releases/download/v0.1/vgg16_weights_tf_dim_ordering_tf_kernels_notop.h5\n",
      "58892288/58889256 [==============================] - 1s 0us/step\n"
     ]
    }
   ],
   "source": [
    "from keras.applications.vgg16 import VGG16\n",
    "base_model = VGG16(weights='imagenet', include_top=False)\n"
   ]
  },
  {
   "cell_type": "code",
   "execution_count": 0,
   "metadata": {
    "colab": {
     "base_uri": "https://localhost:8080/",
     "height": 73
    },
    "colab_type": "code",
    "id": "kS3iGkB4KDDF",
    "outputId": "bc0bd6ba-8ad6-4295-b53b-43dbefe8b0e7"
   },
   "outputs": [
    {
     "name": "stderr",
     "output_type": "stream",
     "text": [
      "/usr/local/lib/python3.6/dist-packages/ipykernel_launcher.py:9: UserWarning: Update your `Model` call to the Keras 2 API: `Model(inputs=Tensor(\"in..., outputs=Tensor(\"de...)`\n",
      "  if __name__ == '__main__':\n"
     ]
    }
   ],
   "source": [
    "# add a global spatial average pooling layer\n",
    "x = base_model.output\n",
    "x = GlobalAveragePooling2D()(x)\n",
    "# let's add a fully-connected layer\n",
    "x = Dense(1024, activation='relu')(x)\n",
    "# and a logistic layer -- let's say we have 200 classes\n",
    "predictions = Dense(3, activation='softmax')(x)\n",
    "\n",
    "# this is the model we will train\n",
    "model_3 = Model(input=base_model.input, output=predictions)\n",
    "\n",
    "# first: train only the top layers (which were randomly initialized), i.e. freeze all convolutional InceptionV3 layers\n",
    "for layer in base_model.layers: layer.trainable = False\n",
    "\n",
    "# compile the model (should be done *after* setting layers to non-trainable)\n",
    "#model.compile(optimizer='rmsprop', loss='categorical_crossentropy')\n",
    "from keras.optimizers import SGD\n",
    "model_3.compile(optimizer=SGD(lr=0.0001, momentum=0.9), loss='categorical_crossentropy', metrics=['accuracy'])"
   ]
  },
  {
   "cell_type": "code",
   "execution_count": 0,
   "metadata": {
    "colab": {},
    "colab_type": "code",
    "id": "ZW55cgJJuzDV"
   },
   "outputs": [],
   "source": [
    "setup_to_transfer_learning(model_3,base_model)"
   ]
  },
  {
   "cell_type": "code",
   "execution_count": 0,
   "metadata": {
    "colab": {
     "base_uri": "https://localhost:8080/",
     "height": 377
    },
    "colab_type": "code",
    "id": "H7HEeDSoMYC8",
    "outputId": "2263d159-62a2-40f3-c68f-869064372d5c"
   },
   "outputs": [
    {
     "name": "stdout",
     "output_type": "stream",
     "text": [
      "Epoch 1/10\n",
      "100/100 [==============================] - 377s 4s/step - loss: 0.0909 - acc: 0.9769 - val_loss: 0.7036 - val_acc: 0.7826\n",
      "Epoch 2/10\n",
      "100/100 [==============================] - 374s 4s/step - loss: 0.0840 - acc: 0.9825 - val_loss: 0.5377 - val_acc: 0.8138\n",
      "Epoch 3/10\n",
      "100/100 [==============================] - 339s 3s/step - loss: 0.0773 - acc: 0.9837 - val_loss: 0.6905 - val_acc: 0.8032\n",
      "Epoch 4/10\n",
      "100/100 [==============================] - 380s 4s/step - loss: 0.0779 - acc: 0.9837 - val_loss: 0.6622 - val_acc: 0.7713\n",
      "Epoch 5/10\n",
      "100/100 [==============================] - 349s 3s/step - loss: 0.0721 - acc: 0.9862 - val_loss: 0.6470 - val_acc: 0.7926\n",
      "Epoch 6/10\n",
      "100/100 [==============================] - 375s 4s/step - loss: 0.0712 - acc: 0.9881 - val_loss: 0.6704 - val_acc: 0.7935\n",
      "Epoch 7/10\n",
      "100/100 [==============================] - 374s 4s/step - loss: 0.0640 - acc: 0.9887 - val_loss: 0.6771 - val_acc: 0.7872\n",
      "Epoch 8/10\n",
      "100/100 [==============================] - 394s 4s/step - loss: 0.0670 - acc: 0.9881 - val_loss: 0.6713 - val_acc: 0.7606\n",
      "Epoch 9/10\n",
      "100/100 [==============================] - 358s 4s/step - loss: 0.0639 - acc: 0.9896 - val_loss: 0.6065 - val_acc: 0.7926\n",
      "Epoch 10/10\n",
      "100/100 [==============================] - 346s 3s/step - loss: 0.0579 - acc: 0.9906 - val_loss: 0.7020 - val_acc: 0.7979\n"
     ]
    }
   ],
   "source": [
    "history_tl_3 = model_3.fit_generator(generator=train_generator,\n",
    "                    steps_per_epoch=100,#\n",
    "                    epochs=10,#2\n",
    "                    validation_data=validation_generator,\n",
    "                    validation_steps=12,#12\n",
    "                    class_weight='auto'\n",
    "                    )\n",
    "model_3.save('data_v1/car_vgg_tl.h5')\n"
   ]
  },
  {
   "cell_type": "code",
   "execution_count": 0,
   "metadata": {
    "colab": {
     "base_uri": "https://localhost:8080/",
     "height": 1345
    },
    "colab_type": "code",
    "id": "xf6xLbMdCAId",
    "outputId": "9fb4265b-0536-4a53-af04-399cbb5f90a9"
   },
   "outputs": [
    {
     "name": "stdout",
     "output_type": "stream",
     "text": [
      "Epoch 1/10\n",
      "100/100 [==============================] - 375s 4s/step - loss: 0.0657 - acc: 0.9881 - val_loss: 3.6511 - val_acc: 0.3750\n",
      "Epoch 2/10\n",
      " 12/100 [==>...........................] - ETA: 5:49 - loss: 0.0636 - acc: 1.0000"
     ]
    },
    {
     "ename": "KeyboardInterrupt",
     "evalue": "ignored",
     "output_type": "error",
     "traceback": [
      "\u001b[0;31m---------------------------------------------------------------------------\u001b[0m",
      "\u001b[0;31mKeyboardInterrupt\u001b[0m                         Traceback (most recent call last)",
      "\u001b[0;32m<ipython-input-68-9009b81a798f>\u001b[0m in \u001b[0;36m<module>\u001b[0;34m()\u001b[0m\n\u001b[1;32m      5\u001b[0m                                  \u001b[0mvalidation_data\u001b[0m\u001b[0;34m=\u001b[0m\u001b[0mvalidation_generator\u001b[0m\u001b[0;34m,\u001b[0m\u001b[0;34m\u001b[0m\u001b[0;34m\u001b[0m\u001b[0m\n\u001b[1;32m      6\u001b[0m                                  \u001b[0mvalidation_steps\u001b[0m\u001b[0;34m=\u001b[0m\u001b[0;36m1\u001b[0m\u001b[0;34m,\u001b[0m\u001b[0;34m\u001b[0m\u001b[0;34m\u001b[0m\u001b[0m\n\u001b[0;32m----> 7\u001b[0;31m                                  class_weight='auto')\n\u001b[0m\u001b[1;32m      8\u001b[0m \u001b[0mmodel_3\u001b[0m\u001b[0;34m.\u001b[0m\u001b[0msave\u001b[0m\u001b[0;34m(\u001b[0m\u001b[0;34m'0121/car_res_ft.h5'\u001b[0m\u001b[0;34m)\u001b[0m\u001b[0;34m\u001b[0m\u001b[0;34m\u001b[0m\u001b[0m\n\u001b[1;32m      9\u001b[0m \u001b[0;34m\u001b[0m\u001b[0m\n",
      "\u001b[0;32m/usr/local/lib/python3.6/dist-packages/keras/legacy/interfaces.py\u001b[0m in \u001b[0;36mwrapper\u001b[0;34m(*args, **kwargs)\u001b[0m\n\u001b[1;32m     89\u001b[0m                 warnings.warn('Update your `' + object_name + '` call to the ' +\n\u001b[1;32m     90\u001b[0m                               'Keras 2 API: ' + signature, stacklevel=2)\n\u001b[0;32m---> 91\u001b[0;31m             \u001b[0;32mreturn\u001b[0m \u001b[0mfunc\u001b[0m\u001b[0;34m(\u001b[0m\u001b[0;34m*\u001b[0m\u001b[0margs\u001b[0m\u001b[0;34m,\u001b[0m \u001b[0;34m**\u001b[0m\u001b[0mkwargs\u001b[0m\u001b[0;34m)\u001b[0m\u001b[0;34m\u001b[0m\u001b[0;34m\u001b[0m\u001b[0m\n\u001b[0m\u001b[1;32m     92\u001b[0m         \u001b[0mwrapper\u001b[0m\u001b[0;34m.\u001b[0m\u001b[0m_original_function\u001b[0m \u001b[0;34m=\u001b[0m \u001b[0mfunc\u001b[0m\u001b[0;34m\u001b[0m\u001b[0;34m\u001b[0m\u001b[0m\n\u001b[1;32m     93\u001b[0m         \u001b[0;32mreturn\u001b[0m \u001b[0mwrapper\u001b[0m\u001b[0;34m\u001b[0m\u001b[0;34m\u001b[0m\u001b[0m\n",
      "\u001b[0;32m/usr/local/lib/python3.6/dist-packages/keras/engine/training.py\u001b[0m in \u001b[0;36mfit_generator\u001b[0;34m(self, generator, steps_per_epoch, epochs, verbose, callbacks, validation_data, validation_steps, class_weight, max_queue_size, workers, use_multiprocessing, shuffle, initial_epoch)\u001b[0m\n\u001b[1;32m   1416\u001b[0m             \u001b[0muse_multiprocessing\u001b[0m\u001b[0;34m=\u001b[0m\u001b[0muse_multiprocessing\u001b[0m\u001b[0;34m,\u001b[0m\u001b[0;34m\u001b[0m\u001b[0;34m\u001b[0m\u001b[0m\n\u001b[1;32m   1417\u001b[0m             \u001b[0mshuffle\u001b[0m\u001b[0;34m=\u001b[0m\u001b[0mshuffle\u001b[0m\u001b[0;34m,\u001b[0m\u001b[0;34m\u001b[0m\u001b[0;34m\u001b[0m\u001b[0m\n\u001b[0;32m-> 1418\u001b[0;31m             initial_epoch=initial_epoch)\n\u001b[0m\u001b[1;32m   1419\u001b[0m \u001b[0;34m\u001b[0m\u001b[0m\n\u001b[1;32m   1420\u001b[0m     \u001b[0;34m@\u001b[0m\u001b[0minterfaces\u001b[0m\u001b[0;34m.\u001b[0m\u001b[0mlegacy_generator_methods_support\u001b[0m\u001b[0;34m\u001b[0m\u001b[0;34m\u001b[0m\u001b[0m\n",
      "\u001b[0;32m/usr/local/lib/python3.6/dist-packages/keras/engine/training_generator.py\u001b[0m in \u001b[0;36mfit_generator\u001b[0;34m(model, generator, steps_per_epoch, epochs, verbose, callbacks, validation_data, validation_steps, class_weight, max_queue_size, workers, use_multiprocessing, shuffle, initial_epoch)\u001b[0m\n\u001b[1;32m    179\u001b[0m             \u001b[0mbatch_index\u001b[0m \u001b[0;34m=\u001b[0m \u001b[0;36m0\u001b[0m\u001b[0;34m\u001b[0m\u001b[0;34m\u001b[0m\u001b[0m\n\u001b[1;32m    180\u001b[0m             \u001b[0;32mwhile\u001b[0m \u001b[0msteps_done\u001b[0m \u001b[0;34m<\u001b[0m \u001b[0msteps_per_epoch\u001b[0m\u001b[0;34m:\u001b[0m\u001b[0;34m\u001b[0m\u001b[0;34m\u001b[0m\u001b[0m\n\u001b[0;32m--> 181\u001b[0;31m                 \u001b[0mgenerator_output\u001b[0m \u001b[0;34m=\u001b[0m \u001b[0mnext\u001b[0m\u001b[0;34m(\u001b[0m\u001b[0moutput_generator\u001b[0m\u001b[0;34m)\u001b[0m\u001b[0;34m\u001b[0m\u001b[0;34m\u001b[0m\u001b[0m\n\u001b[0m\u001b[1;32m    182\u001b[0m \u001b[0;34m\u001b[0m\u001b[0m\n\u001b[1;32m    183\u001b[0m                 \u001b[0;32mif\u001b[0m \u001b[0;32mnot\u001b[0m \u001b[0mhasattr\u001b[0m\u001b[0;34m(\u001b[0m\u001b[0mgenerator_output\u001b[0m\u001b[0;34m,\u001b[0m \u001b[0;34m'__len__'\u001b[0m\u001b[0;34m)\u001b[0m\u001b[0;34m:\u001b[0m\u001b[0;34m\u001b[0m\u001b[0;34m\u001b[0m\u001b[0m\n",
      "\u001b[0;32m/usr/local/lib/python3.6/dist-packages/keras/utils/data_utils.py\u001b[0m in \u001b[0;36mget\u001b[0;34m(self)\u001b[0m\n\u001b[1;32m    683\u001b[0m         \u001b[0;32mtry\u001b[0m\u001b[0;34m:\u001b[0m\u001b[0;34m\u001b[0m\u001b[0;34m\u001b[0m\u001b[0m\n\u001b[1;32m    684\u001b[0m             \u001b[0;32mwhile\u001b[0m \u001b[0mself\u001b[0m\u001b[0;34m.\u001b[0m\u001b[0mis_running\u001b[0m\u001b[0;34m(\u001b[0m\u001b[0;34m)\u001b[0m\u001b[0;34m:\u001b[0m\u001b[0;34m\u001b[0m\u001b[0;34m\u001b[0m\u001b[0m\n\u001b[0;32m--> 685\u001b[0;31m                 \u001b[0minputs\u001b[0m \u001b[0;34m=\u001b[0m \u001b[0mself\u001b[0m\u001b[0;34m.\u001b[0m\u001b[0mqueue\u001b[0m\u001b[0;34m.\u001b[0m\u001b[0mget\u001b[0m\u001b[0;34m(\u001b[0m\u001b[0mblock\u001b[0m\u001b[0;34m=\u001b[0m\u001b[0;32mTrue\u001b[0m\u001b[0;34m)\u001b[0m\u001b[0;34m.\u001b[0m\u001b[0mget\u001b[0m\u001b[0;34m(\u001b[0m\u001b[0;34m)\u001b[0m\u001b[0;34m\u001b[0m\u001b[0;34m\u001b[0m\u001b[0m\n\u001b[0m\u001b[1;32m    686\u001b[0m                 \u001b[0mself\u001b[0m\u001b[0;34m.\u001b[0m\u001b[0mqueue\u001b[0m\u001b[0;34m.\u001b[0m\u001b[0mtask_done\u001b[0m\u001b[0;34m(\u001b[0m\u001b[0;34m)\u001b[0m\u001b[0;34m\u001b[0m\u001b[0;34m\u001b[0m\u001b[0m\n\u001b[1;32m    687\u001b[0m                 \u001b[0;32mif\u001b[0m \u001b[0minputs\u001b[0m \u001b[0;32mis\u001b[0m \u001b[0;32mnot\u001b[0m \u001b[0;32mNone\u001b[0m\u001b[0;34m:\u001b[0m\u001b[0;34m\u001b[0m\u001b[0;34m\u001b[0m\u001b[0m\n",
      "\u001b[0;32m/usr/lib/python3.6/multiprocessing/pool.py\u001b[0m in \u001b[0;36mget\u001b[0;34m(self, timeout)\u001b[0m\n\u001b[1;32m    662\u001b[0m \u001b[0;34m\u001b[0m\u001b[0m\n\u001b[1;32m    663\u001b[0m     \u001b[0;32mdef\u001b[0m \u001b[0mget\u001b[0m\u001b[0;34m(\u001b[0m\u001b[0mself\u001b[0m\u001b[0;34m,\u001b[0m \u001b[0mtimeout\u001b[0m\u001b[0;34m=\u001b[0m\u001b[0;32mNone\u001b[0m\u001b[0;34m)\u001b[0m\u001b[0;34m:\u001b[0m\u001b[0;34m\u001b[0m\u001b[0;34m\u001b[0m\u001b[0m\n\u001b[0;32m--> 664\u001b[0;31m         \u001b[0mself\u001b[0m\u001b[0;34m.\u001b[0m\u001b[0mwait\u001b[0m\u001b[0;34m(\u001b[0m\u001b[0mtimeout\u001b[0m\u001b[0;34m)\u001b[0m\u001b[0;34m\u001b[0m\u001b[0;34m\u001b[0m\u001b[0m\n\u001b[0m\u001b[1;32m    665\u001b[0m         \u001b[0;32mif\u001b[0m \u001b[0;32mnot\u001b[0m \u001b[0mself\u001b[0m\u001b[0;34m.\u001b[0m\u001b[0mready\u001b[0m\u001b[0;34m(\u001b[0m\u001b[0;34m)\u001b[0m\u001b[0;34m:\u001b[0m\u001b[0;34m\u001b[0m\u001b[0;34m\u001b[0m\u001b[0m\n\u001b[1;32m    666\u001b[0m             \u001b[0;32mraise\u001b[0m \u001b[0mTimeoutError\u001b[0m\u001b[0;34m\u001b[0m\u001b[0;34m\u001b[0m\u001b[0m\n",
      "\u001b[0;32m/usr/lib/python3.6/multiprocessing/pool.py\u001b[0m in \u001b[0;36mwait\u001b[0;34m(self, timeout)\u001b[0m\n\u001b[1;32m    659\u001b[0m \u001b[0;34m\u001b[0m\u001b[0m\n\u001b[1;32m    660\u001b[0m     \u001b[0;32mdef\u001b[0m \u001b[0mwait\u001b[0m\u001b[0;34m(\u001b[0m\u001b[0mself\u001b[0m\u001b[0;34m,\u001b[0m \u001b[0mtimeout\u001b[0m\u001b[0;34m=\u001b[0m\u001b[0;32mNone\u001b[0m\u001b[0;34m)\u001b[0m\u001b[0;34m:\u001b[0m\u001b[0;34m\u001b[0m\u001b[0;34m\u001b[0m\u001b[0m\n\u001b[0;32m--> 661\u001b[0;31m         \u001b[0mself\u001b[0m\u001b[0;34m.\u001b[0m\u001b[0m_event\u001b[0m\u001b[0;34m.\u001b[0m\u001b[0mwait\u001b[0m\u001b[0;34m(\u001b[0m\u001b[0mtimeout\u001b[0m\u001b[0;34m)\u001b[0m\u001b[0;34m\u001b[0m\u001b[0;34m\u001b[0m\u001b[0m\n\u001b[0m\u001b[1;32m    662\u001b[0m \u001b[0;34m\u001b[0m\u001b[0m\n\u001b[1;32m    663\u001b[0m     \u001b[0;32mdef\u001b[0m \u001b[0mget\u001b[0m\u001b[0;34m(\u001b[0m\u001b[0mself\u001b[0m\u001b[0;34m,\u001b[0m \u001b[0mtimeout\u001b[0m\u001b[0;34m=\u001b[0m\u001b[0;32mNone\u001b[0m\u001b[0;34m)\u001b[0m\u001b[0;34m:\u001b[0m\u001b[0;34m\u001b[0m\u001b[0;34m\u001b[0m\u001b[0m\n",
      "\u001b[0;32m/usr/lib/python3.6/threading.py\u001b[0m in \u001b[0;36mwait\u001b[0;34m(self, timeout)\u001b[0m\n\u001b[1;32m    549\u001b[0m             \u001b[0msignaled\u001b[0m \u001b[0;34m=\u001b[0m \u001b[0mself\u001b[0m\u001b[0;34m.\u001b[0m\u001b[0m_flag\u001b[0m\u001b[0;34m\u001b[0m\u001b[0;34m\u001b[0m\u001b[0m\n\u001b[1;32m    550\u001b[0m             \u001b[0;32mif\u001b[0m \u001b[0;32mnot\u001b[0m \u001b[0msignaled\u001b[0m\u001b[0;34m:\u001b[0m\u001b[0;34m\u001b[0m\u001b[0;34m\u001b[0m\u001b[0m\n\u001b[0;32m--> 551\u001b[0;31m                 \u001b[0msignaled\u001b[0m \u001b[0;34m=\u001b[0m \u001b[0mself\u001b[0m\u001b[0;34m.\u001b[0m\u001b[0m_cond\u001b[0m\u001b[0;34m.\u001b[0m\u001b[0mwait\u001b[0m\u001b[0;34m(\u001b[0m\u001b[0mtimeout\u001b[0m\u001b[0;34m)\u001b[0m\u001b[0;34m\u001b[0m\u001b[0;34m\u001b[0m\u001b[0m\n\u001b[0m\u001b[1;32m    552\u001b[0m             \u001b[0;32mreturn\u001b[0m \u001b[0msignaled\u001b[0m\u001b[0;34m\u001b[0m\u001b[0;34m\u001b[0m\u001b[0m\n\u001b[1;32m    553\u001b[0m \u001b[0;34m\u001b[0m\u001b[0m\n",
      "\u001b[0;32m/usr/lib/python3.6/threading.py\u001b[0m in \u001b[0;36mwait\u001b[0;34m(self, timeout)\u001b[0m\n\u001b[1;32m    293\u001b[0m         \u001b[0;32mtry\u001b[0m\u001b[0;34m:\u001b[0m    \u001b[0;31m# restore state no matter what (e.g., KeyboardInterrupt)\u001b[0m\u001b[0;34m\u001b[0m\u001b[0;34m\u001b[0m\u001b[0m\n\u001b[1;32m    294\u001b[0m             \u001b[0;32mif\u001b[0m \u001b[0mtimeout\u001b[0m \u001b[0;32mis\u001b[0m \u001b[0;32mNone\u001b[0m\u001b[0;34m:\u001b[0m\u001b[0;34m\u001b[0m\u001b[0;34m\u001b[0m\u001b[0m\n\u001b[0;32m--> 295\u001b[0;31m                 \u001b[0mwaiter\u001b[0m\u001b[0;34m.\u001b[0m\u001b[0macquire\u001b[0m\u001b[0;34m(\u001b[0m\u001b[0;34m)\u001b[0m\u001b[0;34m\u001b[0m\u001b[0;34m\u001b[0m\u001b[0m\n\u001b[0m\u001b[1;32m    296\u001b[0m                 \u001b[0mgotit\u001b[0m \u001b[0;34m=\u001b[0m \u001b[0;32mTrue\u001b[0m\u001b[0;34m\u001b[0m\u001b[0;34m\u001b[0m\u001b[0m\n\u001b[1;32m    297\u001b[0m             \u001b[0;32melse\u001b[0m\u001b[0;34m:\u001b[0m\u001b[0;34m\u001b[0m\u001b[0;34m\u001b[0m\u001b[0m\n",
      "\u001b[0;31mKeyboardInterrupt\u001b[0m: "
     ]
    }
   ],
   "source": [
    "\n",
    "setup_to_fine_tune(model_3,base_model)\n",
    "history_ft_3 = model_2.fit_generator(generator=train_generator,\n",
    "                                 steps_per_epoch=100,\n",
    "                                 epochs=10,\n",
    "                                 validation_data=validation_generator,\n",
    "                                 validation_steps=1,\n",
    "                                 class_weight='auto')\n",
    "model_3.save('0121/car_res_ft.h5')\n",
    "\n"
   ]
  },
  {
   "cell_type": "code",
   "execution_count": 0,
   "metadata": {
    "colab": {
     "base_uri": "https://localhost:8080/",
     "height": 35
    },
    "colab_type": "code",
    "id": "Nj778vmNCKbJ",
    "outputId": "960236d2-8d25-4bcd-8862-6890f1fccc44"
   },
   "outputs": [
    {
     "name": "stdout",
     "output_type": "stream",
     "text": [
      "Accuracy =  0.8810061271470887\n"
     ]
    }
   ],
   "source": [
    "scoreSeg = model_3.evaluate_generator(test_generator, 400)\n",
    "print(\"Accuracy = \",scoreSeg[1])"
   ]
  },
  {
   "cell_type": "code",
   "execution_count": 0,
   "metadata": {
    "colab": {},
    "colab_type": "code",
    "id": "jODmngqLCPJU"
   },
   "outputs": [],
   "source": [
    "test_generator.reset()\n"
   ]
  },
  {
   "cell_type": "code",
   "execution_count": 0,
   "metadata": {
    "colab": {
     "base_uri": "https://localhost:8080/",
     "height": 35
    },
    "colab_type": "code",
    "id": "rXuTJUEiDQ5h",
    "outputId": "5353d8f3-a38d-442b-a5a1-3185785a8e47"
   },
   "outputs": [
    {
     "name": "stdout",
     "output_type": "stream",
     "text": [
      "279/279 [==============================] - 23s 81ms/step\n"
     ]
    }
   ],
   "source": [
    "pred_3 = model_3.predict_generator(test_generator,279, verbose=1)#生成step个数据，下面是对应的标签\n"
   ]
  },
  {
   "cell_type": "code",
   "execution_count": 0,
   "metadata": {
    "colab": {},
    "colab_type": "code",
    "id": "BTfDlbNeDMe_"
   },
   "outputs": [],
   "source": [
    "\n",
    "predicted_class_indices_3 = np.argmax(pred_3, axis=1)"
   ]
  },
  {
   "cell_type": "code",
   "execution_count": 0,
   "metadata": {
    "colab": {
     "base_uri": "https://localhost:8080/",
     "height": 197
    },
    "colab_type": "code",
    "id": "pc6BqDsrCUSf",
    "outputId": "21c4d66b-d8b2-44a0-8561-c8bc2dc0d06b"
   },
   "outputs": [
    {
     "name": "stdout",
     "output_type": "stream",
     "text": [
      "              precision    recall  f1-score   support\n",
      "\n",
      "    good_car       0.99      0.92      0.95       112\n",
      "     scratch       0.50      0.64      0.56        25\n",
      "       other       0.89      0.89      0.89       142\n",
      "\n",
      "   micro avg       0.88      0.88      0.88       279\n",
      "   macro avg       0.79      0.82      0.80       279\n",
      "weighted avg       0.89      0.88      0.89       279\n",
      "\n"
     ]
    }
   ],
   "source": [
    "print(classification_report(A1,list(predicted_class_indices_3), target_names=['good_car',  'scratch','other']))  "
   ]
  },
  {
   "cell_type": "markdown",
   "metadata": {
    "colab_type": "text",
    "id": "zOSBPkvHLrTA"
   },
   "source": [
    "## CNN"
   ]
  },
  {
   "cell_type": "code",
   "execution_count": 0,
   "metadata": {
    "colab": {},
    "colab_type": "code",
    "id": "c3uvYgeOLuPr"
   },
   "outputs": [],
   "source": [
    "import keras\n",
    "from keras.models import Sequential\n",
    "from keras.layers import Dense, Dropout, Flatten\n",
    "from keras.layers import Conv2D, MaxPooling2D\n",
    "from keras.layers. normalization import BatchNormalization\n",
    "import numpy as np "
   ]
  },
  {
   "cell_type": "code",
   "execution_count": 0,
   "metadata": {
    "colab": {},
    "colab_type": "code",
    "id": "ogNid35sfXRw"
   },
   "outputs": [],
   "source": [
    "IMG_SIZE=299"
   ]
  },
  {
   "cell_type": "code",
   "execution_count": 0,
   "metadata": {
    "colab": {},
    "colab_type": "code",
    "id": "uBiUtjTDijfc"
   },
   "outputs": [],
   "source": []
  },
  {
   "cell_type": "code",
   "execution_count": 0,
   "metadata": {
    "colab": {},
    "colab_type": "code",
    "id": "AqFP6MSIijoy"
   },
   "outputs": [],
   "source": []
  },
  {
   "cell_type": "code",
   "execution_count": 0,
   "metadata": {
    "colab": {},
    "colab_type": "code",
    "id": "N2vmBigPijyZ"
   },
   "outputs": [],
   "source": []
  },
  {
   "cell_type": "code",
   "execution_count": 0,
   "metadata": {
    "colab": {},
    "colab_type": "code",
    "id": "XxknsomXLxtF"
   },
   "outputs": [],
   "source": [
    "model_4 = Sequential()\n",
    "model_4.add(Conv2D(32, kernel_size = (3, 3), activation='relu', input_shape=(IMG_SIZE, IMG_SIZE, 3))) \n",
    "#当使用该层作为第一层时，应提供input_shape参数。例如input_shape = (128,128,3)代表128*128的彩色RGB图像\n",
    "#32: filter的个数为32个\n",
    "#kernel_size: 卷积核的宽度和长度\n",
    "\n",
    "model_4.add(MaxPooling2D(pool_size=(2,2)))\n",
    "#为空域信号施加最大值池化\n",
    "#pool_size：长为2的整数tuple，代表在两个方向（竖直，水平）上的下采样因子，如取（2，2）将使图片在两个维度上均变为原长的一半\n",
    "\n",
    "model_4.add(BatchNormalization())\n",
    "#该层在每个batch上将前一层的激活值重新规范化，即使得其输出数据的均值接近0，其标准差接近1\n",
    "\n",
    "model_4.add(Conv2D(64, kernel_size=(3,3), activation='relu'))\n",
    "#32: filter的个数为64个\n",
    "model_4.add(MaxPooling2D(pool_size=(2,2)))\n",
    "model_4.add(BatchNormalization())\n",
    "\n",
    "model_4.add(Conv2D(96, kernel_size=(3,3), activation='relu'))\n",
    "model_4.add(MaxPooling2D(pool_size=(2,2)))\n",
    "model_4.add(BatchNormalization())\n",
    "\n",
    "model_4.add(Conv2D(96, kernel_size=(3,3), activation='relu'))\n",
    "model_4.add(MaxPooling2D(pool_size=(2,2)))\n",
    "model_4.add(BatchNormalization())\n",
    "\n",
    "model_4.add(Conv2D(64, kernel_size=(3,3), activation='relu'))\n",
    "model_4.add(MaxPooling2D(pool_size=(2,2)))\n",
    "model_4.add(BatchNormalization())\n",
    "\n",
    "model_4.add(Dropout(0.2)) #为输入数据施加Dropout。Dropout将在训练过程中每次更新参数时随机断开一定百分比（p）的输入神经元连接，Dropout层用于防止过拟合。\n",
    "model_4.add(Flatten()) #Flatten层用来将输入“压平”，即把多维的输入一维化，常用在从卷积层到全连接层的过渡。Flatten不影响batch的大小。\n",
    "model_4.add(Dense(256, activation='relu')) #全连接层\n",
    "#units为256：大于0的整数，代表该层的输出维度。\n",
    "\n",
    "model_4.add(Dropout(0.2))\n",
    "model_4.add(Dense(128, activation='relu'))\n",
    "#model.add(Dropout(0.3))\n",
    "model_4.add(Dense(3, activation = 'softmax')) #最后一层，分类\n",
    "from keras.optimizers import SGD\n",
    "\n",
    "#编译\n",
    "model_4.compile(loss='categorical_crossentropy', optimizer=SGD(lr=0.001, momentum=0.9), metrics = ['accuracy'])\n",
    "#model.summary()\n"
   ]
  },
  {
   "cell_type": "code",
   "execution_count": 0,
   "metadata": {
    "colab": {},
    "colab_type": "code",
    "id": "17pWtOOVvNHP"
   },
   "outputs": [],
   "source": [
    "setup_to_transfer_learning(model_4,model_4)\n"
   ]
  },
  {
   "cell_type": "code",
   "execution_count": 0,
   "metadata": {
    "colab": {
     "base_uri": "https://localhost:8080/",
     "height": 6205
    },
    "colab_type": "code",
    "id": "sFC6ls37Lssl",
    "outputId": "9bc76373-fa6e-46db-d78a-238100a4830a"
   },
   "outputs": [
    {
     "name": "stdout",
     "output_type": "stream",
     "text": [
      "Epoch 1/100\n",
      "100/100 [==============================] - 31s 306ms/step - loss: 1.4735 - acc: 0.2957 - val_loss: 1.1188 - val_acc: 0.1489\n",
      "\n",
      "Epoch 00001: val_loss improved from inf to 1.11882, saving model to data_v1/0122_baseline_best_weights.hdf5\n",
      "Epoch 2/100\n",
      "100/100 [==============================] - 20s 201ms/step - loss: 1.4806 - acc: 0.2728 - val_loss: 1.1216 - val_acc: 0.1170\n",
      "\n",
      "Epoch 00002: val_loss did not improve from 1.11882\n",
      "Epoch 3/100\n",
      "100/100 [==============================] - 24s 242ms/step - loss: 1.5076 - acc: 0.2794 - val_loss: 1.1182 - val_acc: 0.1489\n",
      "\n",
      "Epoch 00003: val_loss improved from 1.11882 to 1.11815, saving model to data_v1/0122_baseline_best_weights.hdf5\n",
      "Epoch 4/100\n",
      "100/100 [==============================] - 23s 230ms/step - loss: 1.4816 - acc: 0.2879 - val_loss: 1.1180 - val_acc: 0.1467\n",
      "\n",
      "Epoch 00004: val_loss improved from 1.11815 to 1.11804, saving model to data_v1/0122_baseline_best_weights.hdf5\n",
      "Epoch 5/100\n",
      "100/100 [==============================] - 23s 232ms/step - loss: 1.5073 - acc: 0.2744 - val_loss: 1.1187 - val_acc: 0.1383\n",
      "\n",
      "Epoch 00005: val_loss did not improve from 1.11804\n",
      "Epoch 6/100\n",
      "100/100 [==============================] - 24s 244ms/step - loss: 1.4867 - acc: 0.2806 - val_loss: 1.1178 - val_acc: 0.1543\n",
      "\n",
      "Epoch 00006: val_loss improved from 1.11804 to 1.11777, saving model to data_v1/0122_baseline_best_weights.hdf5\n",
      "Epoch 7/100\n",
      "100/100 [==============================] - 23s 228ms/step - loss: 1.4988 - acc: 0.2645 - val_loss: 1.1210 - val_acc: 0.1223\n",
      "\n",
      "Epoch 00007: val_loss did not improve from 1.11777\n",
      "Epoch 8/100\n",
      "100/100 [==============================] - 24s 237ms/step - loss: 1.5078 - acc: 0.2696 - val_loss: 1.1198 - val_acc: 0.1436\n",
      "\n",
      "Epoch 00008: val_loss did not improve from 1.11777\n",
      "Epoch 9/100\n",
      "100/100 [==============================] - 23s 229ms/step - loss: 1.4844 - acc: 0.2868 - val_loss: 1.1183 - val_acc: 0.1467\n",
      "\n",
      "Epoch 00009: val_loss did not improve from 1.11777\n",
      "Epoch 10/100\n",
      "100/100 [==============================] - 23s 232ms/step - loss: 1.4927 - acc: 0.2799 - val_loss: 1.1215 - val_acc: 0.1170\n",
      "\n",
      "Epoch 00010: val_loss did not improve from 1.11777\n",
      "Epoch 11/100\n",
      "100/100 [==============================] - 24s 238ms/step - loss: 1.4851 - acc: 0.2824 - val_loss: 1.1184 - val_acc: 0.1596\n",
      "\n",
      "Epoch 00011: val_loss did not improve from 1.11777\n",
      "Epoch 12/100\n",
      "100/100 [==============================] - 23s 230ms/step - loss: 1.4797 - acc: 0.2816 - val_loss: 1.1208 - val_acc: 0.1277\n",
      "\n",
      "Epoch 00012: val_loss did not improve from 1.11777\n",
      "Epoch 13/100\n",
      "100/100 [==============================] - 23s 228ms/step - loss: 1.4874 - acc: 0.2793 - val_loss: 1.1166 - val_acc: 0.1543\n",
      "\n",
      "Epoch 00013: val_loss improved from 1.11777 to 1.11661, saving model to data_v1/0122_baseline_best_weights.hdf5\n",
      "Epoch 14/100\n",
      "100/100 [==============================] - 24s 235ms/step - loss: 1.4896 - acc: 0.2838 - val_loss: 1.1183 - val_acc: 0.1467\n",
      "\n",
      "Epoch 00014: val_loss did not improve from 1.11661\n",
      "Epoch 15/100\n",
      "100/100 [==============================] - 24s 238ms/step - loss: 1.4879 - acc: 0.2768 - val_loss: 1.1202 - val_acc: 0.1330\n",
      "\n",
      "Epoch 00015: val_loss did not improve from 1.11661\n",
      "Epoch 16/100\n",
      "100/100 [==============================] - 26s 255ms/step - loss: 1.5267 - acc: 0.2688 - val_loss: 1.1197 - val_acc: 0.1330\n",
      "\n",
      "Epoch 00016: val_loss did not improve from 1.11661\n",
      "Epoch 17/100\n",
      "100/100 [==============================] - 23s 232ms/step - loss: 1.5107 - acc: 0.2724 - val_loss: 1.1188 - val_acc: 0.1489\n",
      "\n",
      "Epoch 00017: val_loss did not improve from 1.11661\n",
      "Epoch 18/100\n",
      "100/100 [==============================] - 24s 238ms/step - loss: 1.4740 - acc: 0.2796 - val_loss: 1.1168 - val_acc: 0.1543\n",
      "\n",
      "Epoch 00018: val_loss did not improve from 1.11661\n",
      "Epoch 19/100\n",
      "100/100 [==============================] - 24s 238ms/step - loss: 1.5080 - acc: 0.2909 - val_loss: 1.1202 - val_acc: 0.1359\n",
      "\n",
      "Epoch 00019: val_loss did not improve from 1.11661\n",
      "Epoch 20/100\n",
      "100/100 [==============================] - 23s 235ms/step - loss: 1.4973 - acc: 0.2774 - val_loss: 1.1189 - val_acc: 0.1436\n",
      "\n",
      "Epoch 00020: val_loss did not improve from 1.11661\n",
      "Epoch 21/100\n",
      "100/100 [==============================] - 25s 250ms/step - loss: 1.5002 - acc: 0.2747 - val_loss: 1.1179 - val_acc: 0.1436\n",
      "\n",
      "Epoch 00021: val_loss did not improve from 1.11661\n",
      "Epoch 22/100\n",
      "100/100 [==============================] - 25s 250ms/step - loss: 1.4819 - acc: 0.2846 - val_loss: 1.1202 - val_acc: 0.1383\n",
      "\n",
      "Epoch 00022: val_loss did not improve from 1.11661\n",
      "Epoch 23/100\n",
      "100/100 [==============================] - 26s 262ms/step - loss: 1.4954 - acc: 0.2947 - val_loss: 1.1207 - val_acc: 0.1330\n",
      "\n",
      "Epoch 00023: val_loss did not improve from 1.11661\n",
      "Epoch 24/100\n",
      "100/100 [==============================] - 24s 237ms/step - loss: 1.4507 - acc: 0.3048 - val_loss: 1.1180 - val_acc: 0.1467\n",
      "\n",
      "Epoch 00024: val_loss did not improve from 1.11661\n",
      "Epoch 25/100\n",
      "100/100 [==============================] - 24s 240ms/step - loss: 1.5064 - acc: 0.2741 - val_loss: 1.1185 - val_acc: 0.1436\n",
      "\n",
      "Epoch 00025: val_loss did not improve from 1.11661\n",
      "Epoch 26/100\n",
      "100/100 [==============================] - 24s 241ms/step - loss: 1.4534 - acc: 0.3024 - val_loss: 1.1217 - val_acc: 0.1170\n",
      "\n",
      "Epoch 00026: val_loss did not improve from 1.11661\n",
      "Epoch 27/100\n",
      "100/100 [==============================] - 24s 243ms/step - loss: 1.5039 - acc: 0.2853 - val_loss: 1.1170 - val_acc: 0.1543\n",
      "\n",
      "Epoch 00027: val_loss did not improve from 1.11661\n",
      "Epoch 28/100\n",
      "100/100 [==============================] - 25s 247ms/step - loss: 1.4959 - acc: 0.2875 - val_loss: 1.1204 - val_acc: 0.1330\n",
      "\n",
      "Epoch 00028: val_loss did not improve from 1.11661\n",
      "Epoch 29/100\n",
      "100/100 [==============================] - 24s 243ms/step - loss: 1.4829 - acc: 0.2810 - val_loss: 1.1181 - val_acc: 0.1576\n",
      "\n",
      "Epoch 00029: val_loss did not improve from 1.11661\n",
      "Epoch 30/100\n",
      "100/100 [==============================] - 24s 239ms/step - loss: 1.4891 - acc: 0.2790 - val_loss: 1.1201 - val_acc: 0.1330\n",
      "\n",
      "Epoch 00030: val_loss did not improve from 1.11661\n",
      "Epoch 31/100\n",
      "100/100 [==============================] - 23s 227ms/step - loss: 1.4814 - acc: 0.2897 - val_loss: 1.1170 - val_acc: 0.1596\n",
      "\n",
      "Epoch 00031: val_loss did not improve from 1.11661\n",
      "Epoch 32/100\n",
      "100/100 [==============================] - 24s 242ms/step - loss: 1.5048 - acc: 0.2796 - val_loss: 1.1195 - val_acc: 0.1383\n",
      "\n",
      "Epoch 00032: val_loss did not improve from 1.11661\n",
      "Epoch 33/100\n",
      "100/100 [==============================] - 26s 260ms/step - loss: 1.5410 - acc: 0.2624 - val_loss: 1.1186 - val_acc: 0.1383\n",
      "\n",
      "Epoch 00033: val_loss did not improve from 1.11661\n",
      "Epoch 34/100\n",
      "100/100 [==============================] - 25s 251ms/step - loss: 1.4745 - acc: 0.2804 - val_loss: 1.1205 - val_acc: 0.1359\n",
      "\n",
      "Epoch 00034: val_loss did not improve from 1.11661\n",
      "Epoch 35/100\n",
      "100/100 [==============================] - 23s 234ms/step - loss: 1.4934 - acc: 0.2794 - val_loss: 1.1207 - val_acc: 0.1277\n",
      "\n",
      "Epoch 00035: val_loss did not improve from 1.11661\n",
      "Epoch 36/100\n",
      "100/100 [==============================] - 24s 237ms/step - loss: 1.4911 - acc: 0.2763 - val_loss: 1.1166 - val_acc: 0.1649\n",
      "\n",
      "Epoch 00036: val_loss improved from 1.11661 to 1.11657, saving model to data_v1/0122_baseline_best_weights.hdf5\n",
      "Epoch 37/100\n",
      "100/100 [==============================] - 26s 256ms/step - loss: 1.5049 - acc: 0.2949 - val_loss: 1.1192 - val_acc: 0.1330\n",
      "\n",
      "Epoch 00037: val_loss did not improve from 1.11657\n",
      "Epoch 38/100\n",
      "100/100 [==============================] - 26s 259ms/step - loss: 1.4900 - acc: 0.2856 - val_loss: 1.1190 - val_acc: 0.1436\n",
      "\n",
      "Epoch 00038: val_loss did not improve from 1.11657\n",
      "Epoch 39/100\n",
      "100/100 [==============================] - 28s 285ms/step - loss: 1.5012 - acc: 0.2843 - val_loss: 1.1201 - val_acc: 0.1359\n",
      "\n",
      "Epoch 00039: val_loss did not improve from 1.11657\n",
      "Epoch 40/100\n",
      "100/100 [==============================] - 55s 551ms/step - loss: 1.5192 - acc: 0.2721 - val_loss: 1.1202 - val_acc: 0.1330\n",
      "\n",
      "Epoch 00040: val_loss did not improve from 1.11657\n",
      "Epoch 41/100\n",
      "100/100 [==============================] - 37s 366ms/step - loss: 1.5070 - acc: 0.2689 - val_loss: 1.1168 - val_acc: 0.1649\n",
      "\n",
      "Epoch 00041: val_loss did not improve from 1.11657\n",
      "Epoch 42/100\n",
      "100/100 [==============================] - 25s 251ms/step - loss: 1.4926 - acc: 0.2866 - val_loss: 1.1214 - val_acc: 0.1277\n",
      "\n",
      "Epoch 00042: val_loss did not improve from 1.11657\n",
      "Epoch 43/100\n",
      "100/100 [==============================] - 26s 265ms/step - loss: 1.4942 - acc: 0.2744 - val_loss: 1.1168 - val_acc: 0.1436\n",
      "\n",
      "Epoch 00043: val_loss did not improve from 1.11657\n",
      "Epoch 44/100\n",
      "100/100 [==============================] - 26s 260ms/step - loss: 1.4811 - acc: 0.2914 - val_loss: 1.1206 - val_acc: 0.1359\n",
      "\n",
      "Epoch 00044: val_loss did not improve from 1.11657\n",
      "Epoch 45/100\n",
      "100/100 [==============================] - 23s 229ms/step - loss: 1.4922 - acc: 0.2631 - val_loss: 1.1192 - val_acc: 0.1330\n",
      "\n",
      "Epoch 00045: val_loss did not improve from 1.11657\n",
      "Epoch 46/100\n",
      "100/100 [==============================] - 23s 235ms/step - loss: 1.4757 - acc: 0.2766 - val_loss: 1.1195 - val_acc: 0.1436\n",
      "\n",
      "Epoch 00046: val_loss did not improve from 1.11657\n",
      "Epoch 47/100\n",
      "100/100 [==============================] - 23s 226ms/step - loss: 1.4770 - acc: 0.2876 - val_loss: 1.1216 - val_acc: 0.1383\n",
      "\n",
      "Epoch 00047: val_loss did not improve from 1.11657\n",
      "Epoch 48/100\n",
      "100/100 [==============================] - 24s 238ms/step - loss: 1.4752 - acc: 0.2774 - val_loss: 1.1148 - val_acc: 0.1596\n",
      "\n",
      "Epoch 00048: val_loss improved from 1.11657 to 1.11476, saving model to data_v1/0122_baseline_best_weights.hdf5\n",
      "Epoch 49/100\n",
      "100/100 [==============================] - 25s 253ms/step - loss: 1.5069 - acc: 0.2729 - val_loss: 1.1207 - val_acc: 0.1304\n",
      "\n",
      "Epoch 00049: val_loss did not improve from 1.11476\n",
      "Epoch 50/100\n",
      "100/100 [==============================] - 25s 251ms/step - loss: 1.5021 - acc: 0.2936 - val_loss: 1.1179 - val_acc: 0.1489\n",
      "\n",
      "Epoch 00050: val_loss did not improve from 1.11476\n",
      "Epoch 51/100\n",
      "100/100 [==============================] - 24s 236ms/step - loss: 1.5255 - acc: 0.2614 - val_loss: 1.1227 - val_acc: 0.1223\n",
      "\n",
      "Epoch 00051: val_loss did not improve from 1.11476\n",
      "Epoch 52/100\n",
      "100/100 [==============================] - 24s 242ms/step - loss: 1.4883 - acc: 0.2861 - val_loss: 1.1139 - val_acc: 0.1649\n",
      "\n",
      "Epoch 00052: val_loss improved from 1.11476 to 1.11390, saving model to data_v1/0122_baseline_best_weights.hdf5\n",
      "Epoch 53/100\n",
      "100/100 [==============================] - 25s 249ms/step - loss: 1.5296 - acc: 0.2710 - val_loss: 1.1245 - val_acc: 0.1117\n",
      "\n",
      "Epoch 00053: val_loss did not improve from 1.11390\n",
      "Epoch 54/100\n",
      "100/100 [==============================] - 24s 240ms/step - loss: 1.4989 - acc: 0.2656 - val_loss: 1.1166 - val_acc: 0.1576\n",
      "\n",
      "Epoch 00054: val_loss did not improve from 1.11390\n",
      "Epoch 55/100\n",
      "100/100 [==============================] - 24s 245ms/step - loss: 1.5248 - acc: 0.2709 - val_loss: 1.1189 - val_acc: 0.1383\n",
      "\n",
      "Epoch 00055: val_loss did not improve from 1.11390\n",
      "Epoch 56/100\n",
      "100/100 [==============================] - 25s 247ms/step - loss: 1.4647 - acc: 0.2870 - val_loss: 1.1202 - val_acc: 0.1383\n",
      "\n",
      "Epoch 00056: val_loss did not improve from 1.11390\n",
      "Epoch 57/100\n",
      "100/100 [==============================] - 24s 238ms/step - loss: 1.4987 - acc: 0.2771 - val_loss: 1.1176 - val_acc: 0.1543\n",
      "\n",
      "Epoch 00057: val_loss did not improve from 1.11390\n",
      "Epoch 58/100\n",
      "100/100 [==============================] - 24s 241ms/step - loss: 1.5001 - acc: 0.2740 - val_loss: 1.1187 - val_acc: 0.1383\n",
      "\n",
      "Epoch 00058: val_loss did not improve from 1.11390\n",
      "Epoch 59/100\n",
      "100/100 [==============================] - 24s 241ms/step - loss: 1.5290 - acc: 0.2772 - val_loss: 1.1203 - val_acc: 0.1359\n",
      "\n",
      "Epoch 00059: val_loss did not improve from 1.11390\n",
      "Epoch 60/100\n",
      "100/100 [==============================] - 25s 249ms/step - loss: 1.4670 - acc: 0.2824 - val_loss: 1.1201 - val_acc: 0.1383\n",
      "\n",
      "Epoch 00060: val_loss did not improve from 1.11390\n",
      "Epoch 61/100\n",
      "100/100 [==============================] - 24s 240ms/step - loss: 1.4740 - acc: 0.2967 - val_loss: 1.1171 - val_acc: 0.1543\n",
      "\n",
      "Epoch 00061: val_loss did not improve from 1.11390\n",
      "Epoch 62/100\n",
      "100/100 [==============================] - 24s 243ms/step - loss: 1.4812 - acc: 0.2771 - val_loss: 1.1201 - val_acc: 0.1330\n",
      "\n",
      "Epoch 00062: val_loss did not improve from 1.11390\n",
      "Epoch 63/100\n",
      "100/100 [==============================] - 25s 253ms/step - loss: 1.4801 - acc: 0.3085 - val_loss: 1.1192 - val_acc: 0.1489\n",
      "\n",
      "Epoch 00063: val_loss did not improve from 1.11390\n",
      "Epoch 64/100\n",
      "100/100 [==============================] - 24s 240ms/step - loss: 1.4968 - acc: 0.2781 - val_loss: 1.1193 - val_acc: 0.1304\n",
      "\n",
      "Epoch 00064: val_loss did not improve from 1.11390\n",
      "Epoch 65/100\n",
      "100/100 [==============================] - 25s 255ms/step - loss: 1.5049 - acc: 0.2702 - val_loss: 1.1190 - val_acc: 0.1436\n",
      "\n",
      "Epoch 00065: val_loss did not improve from 1.11390\n",
      "Epoch 66/100\n",
      "100/100 [==============================] - 30s 305ms/step - loss: 1.4966 - acc: 0.2701 - val_loss: 1.1199 - val_acc: 0.1383\n",
      "\n",
      "Epoch 00066: val_loss did not improve from 1.11390\n",
      "Epoch 67/100\n",
      "100/100 [==============================] - 25s 247ms/step - loss: 1.4918 - acc: 0.2791 - val_loss: 1.1197 - val_acc: 0.1330\n",
      "\n",
      "Epoch 00067: val_loss did not improve from 1.11390\n",
      "Epoch 68/100\n",
      "100/100 [==============================] - 25s 247ms/step - loss: 1.5219 - acc: 0.2836 - val_loss: 1.1178 - val_acc: 0.1543\n",
      "\n",
      "Epoch 00068: val_loss did not improve from 1.11390\n",
      "Epoch 69/100\n",
      " 23/100 [=====>........................] - ETA: 21s - loss: 1.4159 - acc: 0.3505"
     ]
    },
    {
     "ename": "KeyboardInterrupt",
     "evalue": "ignored",
     "output_type": "error",
     "traceback": [
      "\u001b[0;31m---------------------------------------------------------------------------\u001b[0m",
      "\u001b[0;31mKeyboardInterrupt\u001b[0m                         Traceback (most recent call last)",
      "\u001b[0;32m<ipython-input-63-df8e2180384c>\u001b[0m in \u001b[0;36m<module>\u001b[0;34m()\u001b[0m\n\u001b[1;32m      7\u001b[0m                     \u001b[0mvalidation_data\u001b[0m\u001b[0;34m=\u001b[0m\u001b[0mvalidation_generator\u001b[0m\u001b[0;34m,\u001b[0m\u001b[0;34m\u001b[0m\u001b[0;34m\u001b[0m\u001b[0m\n\u001b[1;32m      8\u001b[0m                     \u001b[0mvalidation_steps\u001b[0m\u001b[0;34m=\u001b[0m\u001b[0;36m12\u001b[0m\u001b[0;34m,\u001b[0m\u001b[0;31m#12\u001b[0m\u001b[0;34m\u001b[0m\u001b[0;34m\u001b[0m\u001b[0m\n\u001b[0;32m----> 9\u001b[0;31m                     \u001b[0mcallbacks\u001b[0m\u001b[0;34m=\u001b[0m\u001b[0;34m[\u001b[0m\u001b[0mcheckpointer\u001b[0m\u001b[0;34m]\u001b[0m\u001b[0;34m\u001b[0m\u001b[0;34m\u001b[0m\u001b[0m\n\u001b[0m\u001b[1;32m     10\u001b[0m                     )\n\u001b[1;32m     11\u001b[0m \u001b[0mmodel_4\u001b[0m\u001b[0;34m.\u001b[0m\u001b[0msave\u001b[0m\u001b[0;34m(\u001b[0m\u001b[0;34m'data_v1/car_cnn_tl.h5'\u001b[0m\u001b[0;34m)\u001b[0m\u001b[0;34m\u001b[0m\u001b[0;34m\u001b[0m\u001b[0m\n",
      "\u001b[0;32m/usr/local/lib/python3.6/dist-packages/keras/legacy/interfaces.py\u001b[0m in \u001b[0;36mwrapper\u001b[0;34m(*args, **kwargs)\u001b[0m\n\u001b[1;32m     89\u001b[0m                 warnings.warn('Update your `' + object_name + '` call to the ' +\n\u001b[1;32m     90\u001b[0m                               'Keras 2 API: ' + signature, stacklevel=2)\n\u001b[0;32m---> 91\u001b[0;31m             \u001b[0;32mreturn\u001b[0m \u001b[0mfunc\u001b[0m\u001b[0;34m(\u001b[0m\u001b[0;34m*\u001b[0m\u001b[0margs\u001b[0m\u001b[0;34m,\u001b[0m \u001b[0;34m**\u001b[0m\u001b[0mkwargs\u001b[0m\u001b[0;34m)\u001b[0m\u001b[0;34m\u001b[0m\u001b[0;34m\u001b[0m\u001b[0m\n\u001b[0m\u001b[1;32m     92\u001b[0m         \u001b[0mwrapper\u001b[0m\u001b[0;34m.\u001b[0m\u001b[0m_original_function\u001b[0m \u001b[0;34m=\u001b[0m \u001b[0mfunc\u001b[0m\u001b[0;34m\u001b[0m\u001b[0;34m\u001b[0m\u001b[0m\n\u001b[1;32m     93\u001b[0m         \u001b[0;32mreturn\u001b[0m \u001b[0mwrapper\u001b[0m\u001b[0;34m\u001b[0m\u001b[0;34m\u001b[0m\u001b[0m\n",
      "\u001b[0;32m/usr/local/lib/python3.6/dist-packages/keras/engine/training.py\u001b[0m in \u001b[0;36mfit_generator\u001b[0;34m(self, generator, steps_per_epoch, epochs, verbose, callbacks, validation_data, validation_steps, class_weight, max_queue_size, workers, use_multiprocessing, shuffle, initial_epoch)\u001b[0m\n\u001b[1;32m   1416\u001b[0m             \u001b[0muse_multiprocessing\u001b[0m\u001b[0;34m=\u001b[0m\u001b[0muse_multiprocessing\u001b[0m\u001b[0;34m,\u001b[0m\u001b[0;34m\u001b[0m\u001b[0;34m\u001b[0m\u001b[0m\n\u001b[1;32m   1417\u001b[0m             \u001b[0mshuffle\u001b[0m\u001b[0;34m=\u001b[0m\u001b[0mshuffle\u001b[0m\u001b[0;34m,\u001b[0m\u001b[0;34m\u001b[0m\u001b[0;34m\u001b[0m\u001b[0m\n\u001b[0;32m-> 1418\u001b[0;31m             initial_epoch=initial_epoch)\n\u001b[0m\u001b[1;32m   1419\u001b[0m \u001b[0;34m\u001b[0m\u001b[0m\n\u001b[1;32m   1420\u001b[0m     \u001b[0;34m@\u001b[0m\u001b[0minterfaces\u001b[0m\u001b[0;34m.\u001b[0m\u001b[0mlegacy_generator_methods_support\u001b[0m\u001b[0;34m\u001b[0m\u001b[0;34m\u001b[0m\u001b[0m\n",
      "\u001b[0;32m/usr/local/lib/python3.6/dist-packages/keras/engine/training_generator.py\u001b[0m in \u001b[0;36mfit_generator\u001b[0;34m(model, generator, steps_per_epoch, epochs, verbose, callbacks, validation_data, validation_steps, class_weight, max_queue_size, workers, use_multiprocessing, shuffle, initial_epoch)\u001b[0m\n\u001b[1;32m    179\u001b[0m             \u001b[0mbatch_index\u001b[0m \u001b[0;34m=\u001b[0m \u001b[0;36m0\u001b[0m\u001b[0;34m\u001b[0m\u001b[0;34m\u001b[0m\u001b[0m\n\u001b[1;32m    180\u001b[0m             \u001b[0;32mwhile\u001b[0m \u001b[0msteps_done\u001b[0m \u001b[0;34m<\u001b[0m \u001b[0msteps_per_epoch\u001b[0m\u001b[0;34m:\u001b[0m\u001b[0;34m\u001b[0m\u001b[0;34m\u001b[0m\u001b[0m\n\u001b[0;32m--> 181\u001b[0;31m                 \u001b[0mgenerator_output\u001b[0m \u001b[0;34m=\u001b[0m \u001b[0mnext\u001b[0m\u001b[0;34m(\u001b[0m\u001b[0moutput_generator\u001b[0m\u001b[0;34m)\u001b[0m\u001b[0;34m\u001b[0m\u001b[0;34m\u001b[0m\u001b[0m\n\u001b[0m\u001b[1;32m    182\u001b[0m \u001b[0;34m\u001b[0m\u001b[0m\n\u001b[1;32m    183\u001b[0m                 \u001b[0;32mif\u001b[0m \u001b[0;32mnot\u001b[0m \u001b[0mhasattr\u001b[0m\u001b[0;34m(\u001b[0m\u001b[0mgenerator_output\u001b[0m\u001b[0;34m,\u001b[0m \u001b[0;34m'__len__'\u001b[0m\u001b[0;34m)\u001b[0m\u001b[0;34m:\u001b[0m\u001b[0;34m\u001b[0m\u001b[0;34m\u001b[0m\u001b[0m\n",
      "\u001b[0;32m/usr/local/lib/python3.6/dist-packages/keras/utils/data_utils.py\u001b[0m in \u001b[0;36mget\u001b[0;34m(self)\u001b[0m\n\u001b[1;32m    683\u001b[0m         \u001b[0;32mtry\u001b[0m\u001b[0;34m:\u001b[0m\u001b[0;34m\u001b[0m\u001b[0;34m\u001b[0m\u001b[0m\n\u001b[1;32m    684\u001b[0m             \u001b[0;32mwhile\u001b[0m \u001b[0mself\u001b[0m\u001b[0;34m.\u001b[0m\u001b[0mis_running\u001b[0m\u001b[0;34m(\u001b[0m\u001b[0;34m)\u001b[0m\u001b[0;34m:\u001b[0m\u001b[0;34m\u001b[0m\u001b[0;34m\u001b[0m\u001b[0m\n\u001b[0;32m--> 685\u001b[0;31m                 \u001b[0minputs\u001b[0m \u001b[0;34m=\u001b[0m \u001b[0mself\u001b[0m\u001b[0;34m.\u001b[0m\u001b[0mqueue\u001b[0m\u001b[0;34m.\u001b[0m\u001b[0mget\u001b[0m\u001b[0;34m(\u001b[0m\u001b[0mblock\u001b[0m\u001b[0;34m=\u001b[0m\u001b[0;32mTrue\u001b[0m\u001b[0;34m)\u001b[0m\u001b[0;34m.\u001b[0m\u001b[0mget\u001b[0m\u001b[0;34m(\u001b[0m\u001b[0;34m)\u001b[0m\u001b[0;34m\u001b[0m\u001b[0;34m\u001b[0m\u001b[0m\n\u001b[0m\u001b[1;32m    686\u001b[0m                 \u001b[0mself\u001b[0m\u001b[0;34m.\u001b[0m\u001b[0mqueue\u001b[0m\u001b[0;34m.\u001b[0m\u001b[0mtask_done\u001b[0m\u001b[0;34m(\u001b[0m\u001b[0;34m)\u001b[0m\u001b[0;34m\u001b[0m\u001b[0;34m\u001b[0m\u001b[0m\n\u001b[1;32m    687\u001b[0m                 \u001b[0;32mif\u001b[0m \u001b[0minputs\u001b[0m \u001b[0;32mis\u001b[0m \u001b[0;32mnot\u001b[0m \u001b[0;32mNone\u001b[0m\u001b[0;34m:\u001b[0m\u001b[0;34m\u001b[0m\u001b[0;34m\u001b[0m\u001b[0m\n",
      "\u001b[0;32m/usr/lib/python3.6/multiprocessing/pool.py\u001b[0m in \u001b[0;36mget\u001b[0;34m(self, timeout)\u001b[0m\n\u001b[1;32m    662\u001b[0m \u001b[0;34m\u001b[0m\u001b[0m\n\u001b[1;32m    663\u001b[0m     \u001b[0;32mdef\u001b[0m \u001b[0mget\u001b[0m\u001b[0;34m(\u001b[0m\u001b[0mself\u001b[0m\u001b[0;34m,\u001b[0m \u001b[0mtimeout\u001b[0m\u001b[0;34m=\u001b[0m\u001b[0;32mNone\u001b[0m\u001b[0;34m)\u001b[0m\u001b[0;34m:\u001b[0m\u001b[0;34m\u001b[0m\u001b[0;34m\u001b[0m\u001b[0m\n\u001b[0;32m--> 664\u001b[0;31m         \u001b[0mself\u001b[0m\u001b[0;34m.\u001b[0m\u001b[0mwait\u001b[0m\u001b[0;34m(\u001b[0m\u001b[0mtimeout\u001b[0m\u001b[0;34m)\u001b[0m\u001b[0;34m\u001b[0m\u001b[0;34m\u001b[0m\u001b[0m\n\u001b[0m\u001b[1;32m    665\u001b[0m         \u001b[0;32mif\u001b[0m \u001b[0;32mnot\u001b[0m \u001b[0mself\u001b[0m\u001b[0;34m.\u001b[0m\u001b[0mready\u001b[0m\u001b[0;34m(\u001b[0m\u001b[0;34m)\u001b[0m\u001b[0;34m:\u001b[0m\u001b[0;34m\u001b[0m\u001b[0;34m\u001b[0m\u001b[0m\n\u001b[1;32m    666\u001b[0m             \u001b[0;32mraise\u001b[0m \u001b[0mTimeoutError\u001b[0m\u001b[0;34m\u001b[0m\u001b[0;34m\u001b[0m\u001b[0m\n",
      "\u001b[0;32m/usr/lib/python3.6/multiprocessing/pool.py\u001b[0m in \u001b[0;36mwait\u001b[0;34m(self, timeout)\u001b[0m\n\u001b[1;32m    659\u001b[0m \u001b[0;34m\u001b[0m\u001b[0m\n\u001b[1;32m    660\u001b[0m     \u001b[0;32mdef\u001b[0m \u001b[0mwait\u001b[0m\u001b[0;34m(\u001b[0m\u001b[0mself\u001b[0m\u001b[0;34m,\u001b[0m \u001b[0mtimeout\u001b[0m\u001b[0;34m=\u001b[0m\u001b[0;32mNone\u001b[0m\u001b[0;34m)\u001b[0m\u001b[0;34m:\u001b[0m\u001b[0;34m\u001b[0m\u001b[0;34m\u001b[0m\u001b[0m\n\u001b[0;32m--> 661\u001b[0;31m         \u001b[0mself\u001b[0m\u001b[0;34m.\u001b[0m\u001b[0m_event\u001b[0m\u001b[0;34m.\u001b[0m\u001b[0mwait\u001b[0m\u001b[0;34m(\u001b[0m\u001b[0mtimeout\u001b[0m\u001b[0;34m)\u001b[0m\u001b[0;34m\u001b[0m\u001b[0;34m\u001b[0m\u001b[0m\n\u001b[0m\u001b[1;32m    662\u001b[0m \u001b[0;34m\u001b[0m\u001b[0m\n\u001b[1;32m    663\u001b[0m     \u001b[0;32mdef\u001b[0m \u001b[0mget\u001b[0m\u001b[0;34m(\u001b[0m\u001b[0mself\u001b[0m\u001b[0;34m,\u001b[0m \u001b[0mtimeout\u001b[0m\u001b[0;34m=\u001b[0m\u001b[0;32mNone\u001b[0m\u001b[0;34m)\u001b[0m\u001b[0;34m:\u001b[0m\u001b[0;34m\u001b[0m\u001b[0;34m\u001b[0m\u001b[0m\n",
      "\u001b[0;32m/usr/lib/python3.6/threading.py\u001b[0m in \u001b[0;36mwait\u001b[0;34m(self, timeout)\u001b[0m\n\u001b[1;32m    549\u001b[0m             \u001b[0msignaled\u001b[0m \u001b[0;34m=\u001b[0m \u001b[0mself\u001b[0m\u001b[0;34m.\u001b[0m\u001b[0m_flag\u001b[0m\u001b[0;34m\u001b[0m\u001b[0;34m\u001b[0m\u001b[0m\n\u001b[1;32m    550\u001b[0m             \u001b[0;32mif\u001b[0m \u001b[0;32mnot\u001b[0m \u001b[0msignaled\u001b[0m\u001b[0;34m:\u001b[0m\u001b[0;34m\u001b[0m\u001b[0;34m\u001b[0m\u001b[0m\n\u001b[0;32m--> 551\u001b[0;31m                 \u001b[0msignaled\u001b[0m \u001b[0;34m=\u001b[0m \u001b[0mself\u001b[0m\u001b[0;34m.\u001b[0m\u001b[0m_cond\u001b[0m\u001b[0;34m.\u001b[0m\u001b[0mwait\u001b[0m\u001b[0;34m(\u001b[0m\u001b[0mtimeout\u001b[0m\u001b[0;34m)\u001b[0m\u001b[0;34m\u001b[0m\u001b[0;34m\u001b[0m\u001b[0m\n\u001b[0m\u001b[1;32m    552\u001b[0m             \u001b[0;32mreturn\u001b[0m \u001b[0msignaled\u001b[0m\u001b[0;34m\u001b[0m\u001b[0;34m\u001b[0m\u001b[0m\n\u001b[1;32m    553\u001b[0m \u001b[0;34m\u001b[0m\u001b[0m\n",
      "\u001b[0;32m/usr/lib/python3.6/threading.py\u001b[0m in \u001b[0;36mwait\u001b[0;34m(self, timeout)\u001b[0m\n\u001b[1;32m    293\u001b[0m         \u001b[0;32mtry\u001b[0m\u001b[0;34m:\u001b[0m    \u001b[0;31m# restore state no matter what (e.g., KeyboardInterrupt)\u001b[0m\u001b[0;34m\u001b[0m\u001b[0;34m\u001b[0m\u001b[0m\n\u001b[1;32m    294\u001b[0m             \u001b[0;32mif\u001b[0m \u001b[0mtimeout\u001b[0m \u001b[0;32mis\u001b[0m \u001b[0;32mNone\u001b[0m\u001b[0;34m:\u001b[0m\u001b[0;34m\u001b[0m\u001b[0;34m\u001b[0m\u001b[0m\n\u001b[0;32m--> 295\u001b[0;31m                 \u001b[0mwaiter\u001b[0m\u001b[0;34m.\u001b[0m\u001b[0macquire\u001b[0m\u001b[0;34m(\u001b[0m\u001b[0;34m)\u001b[0m\u001b[0;34m\u001b[0m\u001b[0;34m\u001b[0m\u001b[0m\n\u001b[0m\u001b[1;32m    296\u001b[0m                 \u001b[0mgotit\u001b[0m \u001b[0;34m=\u001b[0m \u001b[0;32mTrue\u001b[0m\u001b[0;34m\u001b[0m\u001b[0;34m\u001b[0m\u001b[0m\n\u001b[1;32m    297\u001b[0m             \u001b[0;32melse\u001b[0m\u001b[0;34m:\u001b[0m\u001b[0;34m\u001b[0m\u001b[0;34m\u001b[0m\u001b[0m\n",
      "\u001b[0;31mKeyboardInterrupt\u001b[0m: "
     ]
    }
   ],
   "source": [
    "from keras.callbacks import ModelCheckpoint\n",
    "checkpointer = ModelCheckpoint(filepath = 'data_v1/0122_baseline_best_weights.hdf5',verbose=1\n",
    "                              ,save_best_only =True)\n",
    "history_tl_4 = model_4.fit_generator(generator=train_generator,\n",
    "                    steps_per_epoch=100,#800\n",
    "                    epochs=100,#2\n",
    "                    validation_data=validation_generator,\n",
    "                    validation_steps=12,#12\n",
    "                    callbacks=[checkpointer]\n",
    "                    )\n",
    "model_4.save('data_v1/car_cnn_tl.h5')\n",
    "\n"
   ]
  },
  {
   "cell_type": "code",
   "execution_count": 0,
   "metadata": {
    "colab": {
     "base_uri": "https://localhost:8080/",
     "height": 1327
    },
    "colab_type": "code",
    "id": "rXAIPbCx7f0s",
    "outputId": "4ec0d90a-5d42-4018-fabd-ebd0e31fd653"
   },
   "outputs": [
    {
     "name": "stdout",
     "output_type": "stream",
     "text": [
      "Epoch 1/50\n",
      "200/200 [==============================] - 61s 304ms/step - loss: 1.9009 - acc: 0.2062 - val_loss: 1.1172 - val_acc: 0.0938\n",
      "Epoch 2/50\n",
      "200/200 [==============================] - 40s 198ms/step - loss: 1.8826 - acc: 0.2087 - val_loss: 1.1041 - val_acc: 0.1875\n",
      "Epoch 3/50\n",
      "200/200 [==============================] - 42s 209ms/step - loss: 1.8820 - acc: 0.2044 - val_loss: 1.1101 - val_acc: 0.1562\n",
      "Epoch 4/50\n",
      "200/200 [==============================] - 42s 209ms/step - loss: 1.8934 - acc: 0.2108 - val_loss: 1.1219 - val_acc: 0.1250\n",
      "Epoch 5/50\n",
      " 79/200 [==========>...................] - ETA: 25s - loss: 1.9045 - acc: 0.2231"
     ]
    },
    {
     "ename": "KeyboardInterrupt",
     "evalue": "ignored",
     "output_type": "error",
     "traceback": [
      "\u001b[0;31m---------------------------------------------------------------------------\u001b[0m",
      "\u001b[0;31mKeyboardInterrupt\u001b[0m                         Traceback (most recent call last)",
      "\u001b[0;32m<ipython-input-175-d539d352b52b>\u001b[0m in \u001b[0;36m<module>\u001b[0;34m()\u001b[0m\n\u001b[1;32m      5\u001b[0m                                  \u001b[0mvalidation_data\u001b[0m\u001b[0;34m=\u001b[0m\u001b[0mvalidation_generator\u001b[0m\u001b[0;34m,\u001b[0m\u001b[0;34m\u001b[0m\u001b[0;34m\u001b[0m\u001b[0m\n\u001b[1;32m      6\u001b[0m                                  \u001b[0mvalidation_steps\u001b[0m\u001b[0;34m=\u001b[0m\u001b[0;36m2\u001b[0m\u001b[0;34m,\u001b[0m\u001b[0;34m\u001b[0m\u001b[0;34m\u001b[0m\u001b[0m\n\u001b[0;32m----> 7\u001b[0;31m                                  class_weight='auto')\n\u001b[0m\u001b[1;32m      8\u001b[0m \u001b[0mmodel_4\u001b[0m\u001b[0;34m.\u001b[0m\u001b[0msave\u001b[0m\u001b[0;34m(\u001b[0m\u001b[0;34m'0121/car_cnn_fh.h5'\u001b[0m\u001b[0;34m)\u001b[0m\u001b[0;34m\u001b[0m\u001b[0;34m\u001b[0m\u001b[0m\n\u001b[1;32m      9\u001b[0m \u001b[0;34m\u001b[0m\u001b[0m\n",
      "\u001b[0;32m/usr/local/lib/python3.6/dist-packages/keras/legacy/interfaces.py\u001b[0m in \u001b[0;36mwrapper\u001b[0;34m(*args, **kwargs)\u001b[0m\n\u001b[1;32m     89\u001b[0m                 warnings.warn('Update your `' + object_name + '` call to the ' +\n\u001b[1;32m     90\u001b[0m                               'Keras 2 API: ' + signature, stacklevel=2)\n\u001b[0;32m---> 91\u001b[0;31m             \u001b[0;32mreturn\u001b[0m \u001b[0mfunc\u001b[0m\u001b[0;34m(\u001b[0m\u001b[0;34m*\u001b[0m\u001b[0margs\u001b[0m\u001b[0;34m,\u001b[0m \u001b[0;34m**\u001b[0m\u001b[0mkwargs\u001b[0m\u001b[0;34m)\u001b[0m\u001b[0;34m\u001b[0m\u001b[0;34m\u001b[0m\u001b[0m\n\u001b[0m\u001b[1;32m     92\u001b[0m         \u001b[0mwrapper\u001b[0m\u001b[0;34m.\u001b[0m\u001b[0m_original_function\u001b[0m \u001b[0;34m=\u001b[0m \u001b[0mfunc\u001b[0m\u001b[0;34m\u001b[0m\u001b[0;34m\u001b[0m\u001b[0m\n\u001b[1;32m     93\u001b[0m         \u001b[0;32mreturn\u001b[0m \u001b[0mwrapper\u001b[0m\u001b[0;34m\u001b[0m\u001b[0;34m\u001b[0m\u001b[0m\n",
      "\u001b[0;32m/usr/local/lib/python3.6/dist-packages/keras/engine/training.py\u001b[0m in \u001b[0;36mfit_generator\u001b[0;34m(self, generator, steps_per_epoch, epochs, verbose, callbacks, validation_data, validation_steps, class_weight, max_queue_size, workers, use_multiprocessing, shuffle, initial_epoch)\u001b[0m\n\u001b[1;32m   1416\u001b[0m             \u001b[0muse_multiprocessing\u001b[0m\u001b[0;34m=\u001b[0m\u001b[0muse_multiprocessing\u001b[0m\u001b[0;34m,\u001b[0m\u001b[0;34m\u001b[0m\u001b[0;34m\u001b[0m\u001b[0m\n\u001b[1;32m   1417\u001b[0m             \u001b[0mshuffle\u001b[0m\u001b[0;34m=\u001b[0m\u001b[0mshuffle\u001b[0m\u001b[0;34m,\u001b[0m\u001b[0;34m\u001b[0m\u001b[0;34m\u001b[0m\u001b[0m\n\u001b[0;32m-> 1418\u001b[0;31m             initial_epoch=initial_epoch)\n\u001b[0m\u001b[1;32m   1419\u001b[0m \u001b[0;34m\u001b[0m\u001b[0m\n\u001b[1;32m   1420\u001b[0m     \u001b[0;34m@\u001b[0m\u001b[0minterfaces\u001b[0m\u001b[0;34m.\u001b[0m\u001b[0mlegacy_generator_methods_support\u001b[0m\u001b[0;34m\u001b[0m\u001b[0;34m\u001b[0m\u001b[0m\n",
      "\u001b[0;32m/usr/local/lib/python3.6/dist-packages/keras/engine/training_generator.py\u001b[0m in \u001b[0;36mfit_generator\u001b[0;34m(model, generator, steps_per_epoch, epochs, verbose, callbacks, validation_data, validation_steps, class_weight, max_queue_size, workers, use_multiprocessing, shuffle, initial_epoch)\u001b[0m\n\u001b[1;32m    215\u001b[0m                 outs = model.train_on_batch(x, y,\n\u001b[1;32m    216\u001b[0m                                             \u001b[0msample_weight\u001b[0m\u001b[0;34m=\u001b[0m\u001b[0msample_weight\u001b[0m\u001b[0;34m,\u001b[0m\u001b[0;34m\u001b[0m\u001b[0;34m\u001b[0m\u001b[0m\n\u001b[0;32m--> 217\u001b[0;31m                                             class_weight=class_weight)\n\u001b[0m\u001b[1;32m    218\u001b[0m \u001b[0;34m\u001b[0m\u001b[0m\n\u001b[1;32m    219\u001b[0m                 \u001b[0mouts\u001b[0m \u001b[0;34m=\u001b[0m \u001b[0mto_list\u001b[0m\u001b[0;34m(\u001b[0m\u001b[0mouts\u001b[0m\u001b[0;34m)\u001b[0m\u001b[0;34m\u001b[0m\u001b[0;34m\u001b[0m\u001b[0m\n",
      "\u001b[0;32m/usr/local/lib/python3.6/dist-packages/keras/engine/training.py\u001b[0m in \u001b[0;36mtrain_on_batch\u001b[0;34m(self, x, y, sample_weight, class_weight)\u001b[0m\n\u001b[1;32m   1215\u001b[0m             \u001b[0mins\u001b[0m \u001b[0;34m=\u001b[0m \u001b[0mx\u001b[0m \u001b[0;34m+\u001b[0m \u001b[0my\u001b[0m \u001b[0;34m+\u001b[0m \u001b[0msample_weights\u001b[0m\u001b[0;34m\u001b[0m\u001b[0;34m\u001b[0m\u001b[0m\n\u001b[1;32m   1216\u001b[0m         \u001b[0mself\u001b[0m\u001b[0;34m.\u001b[0m\u001b[0m_make_train_function\u001b[0m\u001b[0;34m(\u001b[0m\u001b[0;34m)\u001b[0m\u001b[0;34m\u001b[0m\u001b[0;34m\u001b[0m\u001b[0m\n\u001b[0;32m-> 1217\u001b[0;31m         \u001b[0moutputs\u001b[0m \u001b[0;34m=\u001b[0m \u001b[0mself\u001b[0m\u001b[0;34m.\u001b[0m\u001b[0mtrain_function\u001b[0m\u001b[0;34m(\u001b[0m\u001b[0mins\u001b[0m\u001b[0;34m)\u001b[0m\u001b[0;34m\u001b[0m\u001b[0;34m\u001b[0m\u001b[0m\n\u001b[0m\u001b[1;32m   1218\u001b[0m         \u001b[0;32mreturn\u001b[0m \u001b[0munpack_singleton\u001b[0m\u001b[0;34m(\u001b[0m\u001b[0moutputs\u001b[0m\u001b[0;34m)\u001b[0m\u001b[0;34m\u001b[0m\u001b[0;34m\u001b[0m\u001b[0m\n\u001b[1;32m   1219\u001b[0m \u001b[0;34m\u001b[0m\u001b[0m\n",
      "\u001b[0;32m/usr/local/lib/python3.6/dist-packages/keras/backend/tensorflow_backend.py\u001b[0m in \u001b[0;36m__call__\u001b[0;34m(self, inputs)\u001b[0m\n\u001b[1;32m   2713\u001b[0m                 \u001b[0;32mreturn\u001b[0m \u001b[0mself\u001b[0m\u001b[0;34m.\u001b[0m\u001b[0m_legacy_call\u001b[0m\u001b[0;34m(\u001b[0m\u001b[0minputs\u001b[0m\u001b[0;34m)\u001b[0m\u001b[0;34m\u001b[0m\u001b[0;34m\u001b[0m\u001b[0m\n\u001b[1;32m   2714\u001b[0m \u001b[0;34m\u001b[0m\u001b[0m\n\u001b[0;32m-> 2715\u001b[0;31m             \u001b[0;32mreturn\u001b[0m \u001b[0mself\u001b[0m\u001b[0;34m.\u001b[0m\u001b[0m_call\u001b[0m\u001b[0;34m(\u001b[0m\u001b[0minputs\u001b[0m\u001b[0;34m)\u001b[0m\u001b[0;34m\u001b[0m\u001b[0;34m\u001b[0m\u001b[0m\n\u001b[0m\u001b[1;32m   2716\u001b[0m         \u001b[0;32melse\u001b[0m\u001b[0;34m:\u001b[0m\u001b[0;34m\u001b[0m\u001b[0;34m\u001b[0m\u001b[0m\n\u001b[1;32m   2717\u001b[0m             \u001b[0;32mif\u001b[0m \u001b[0mpy_any\u001b[0m\u001b[0;34m(\u001b[0m\u001b[0mis_tensor\u001b[0m\u001b[0;34m(\u001b[0m\u001b[0mx\u001b[0m\u001b[0;34m)\u001b[0m \u001b[0;32mfor\u001b[0m \u001b[0mx\u001b[0m \u001b[0;32min\u001b[0m \u001b[0minputs\u001b[0m\u001b[0;34m)\u001b[0m\u001b[0;34m:\u001b[0m\u001b[0;34m\u001b[0m\u001b[0;34m\u001b[0m\u001b[0m\n",
      "\u001b[0;32m/usr/local/lib/python3.6/dist-packages/keras/backend/tensorflow_backend.py\u001b[0m in \u001b[0;36m_call\u001b[0;34m(self, inputs)\u001b[0m\n\u001b[1;32m   2673\u001b[0m             \u001b[0mfetched\u001b[0m \u001b[0;34m=\u001b[0m \u001b[0mself\u001b[0m\u001b[0;34m.\u001b[0m\u001b[0m_callable_fn\u001b[0m\u001b[0;34m(\u001b[0m\u001b[0;34m*\u001b[0m\u001b[0marray_vals\u001b[0m\u001b[0;34m,\u001b[0m \u001b[0mrun_metadata\u001b[0m\u001b[0;34m=\u001b[0m\u001b[0mself\u001b[0m\u001b[0;34m.\u001b[0m\u001b[0mrun_metadata\u001b[0m\u001b[0;34m)\u001b[0m\u001b[0;34m\u001b[0m\u001b[0;34m\u001b[0m\u001b[0m\n\u001b[1;32m   2674\u001b[0m         \u001b[0;32melse\u001b[0m\u001b[0;34m:\u001b[0m\u001b[0;34m\u001b[0m\u001b[0;34m\u001b[0m\u001b[0m\n\u001b[0;32m-> 2675\u001b[0;31m             \u001b[0mfetched\u001b[0m \u001b[0;34m=\u001b[0m \u001b[0mself\u001b[0m\u001b[0;34m.\u001b[0m\u001b[0m_callable_fn\u001b[0m\u001b[0;34m(\u001b[0m\u001b[0;34m*\u001b[0m\u001b[0marray_vals\u001b[0m\u001b[0;34m)\u001b[0m\u001b[0;34m\u001b[0m\u001b[0;34m\u001b[0m\u001b[0m\n\u001b[0m\u001b[1;32m   2676\u001b[0m         \u001b[0;32mreturn\u001b[0m \u001b[0mfetched\u001b[0m\u001b[0;34m[\u001b[0m\u001b[0;34m:\u001b[0m\u001b[0mlen\u001b[0m\u001b[0;34m(\u001b[0m\u001b[0mself\u001b[0m\u001b[0;34m.\u001b[0m\u001b[0moutputs\u001b[0m\u001b[0;34m)\u001b[0m\u001b[0;34m]\u001b[0m\u001b[0;34m\u001b[0m\u001b[0;34m\u001b[0m\u001b[0m\n\u001b[1;32m   2677\u001b[0m \u001b[0;34m\u001b[0m\u001b[0m\n",
      "\u001b[0;32m/usr/local/lib/python3.6/dist-packages/tensorflow/python/client/session.py\u001b[0m in \u001b[0;36m__call__\u001b[0;34m(self, *args, **kwargs)\u001b[0m\n\u001b[1;32m   1437\u001b[0m           ret = tf_session.TF_SessionRunCallable(\n\u001b[1;32m   1438\u001b[0m               \u001b[0mself\u001b[0m\u001b[0;34m.\u001b[0m\u001b[0m_session\u001b[0m\u001b[0;34m.\u001b[0m\u001b[0m_session\u001b[0m\u001b[0;34m,\u001b[0m \u001b[0mself\u001b[0m\u001b[0;34m.\u001b[0m\u001b[0m_handle\u001b[0m\u001b[0;34m,\u001b[0m \u001b[0margs\u001b[0m\u001b[0;34m,\u001b[0m \u001b[0mstatus\u001b[0m\u001b[0;34m,\u001b[0m\u001b[0;34m\u001b[0m\u001b[0;34m\u001b[0m\u001b[0m\n\u001b[0;32m-> 1439\u001b[0;31m               run_metadata_ptr)\n\u001b[0m\u001b[1;32m   1440\u001b[0m         \u001b[0;32mif\u001b[0m \u001b[0mrun_metadata\u001b[0m\u001b[0;34m:\u001b[0m\u001b[0;34m\u001b[0m\u001b[0;34m\u001b[0m\u001b[0m\n\u001b[1;32m   1441\u001b[0m           \u001b[0mproto_data\u001b[0m \u001b[0;34m=\u001b[0m \u001b[0mtf_session\u001b[0m\u001b[0;34m.\u001b[0m\u001b[0mTF_GetBuffer\u001b[0m\u001b[0;34m(\u001b[0m\u001b[0mrun_metadata_ptr\u001b[0m\u001b[0;34m)\u001b[0m\u001b[0;34m\u001b[0m\u001b[0;34m\u001b[0m\u001b[0m\n",
      "\u001b[0;31mKeyboardInterrupt\u001b[0m: "
     ]
    }
   ],
   "source": [
    "setup_to_fine_tune(model_4,base_model)\n",
    "history_ft_4 = model_4.fit_generator(generator=train_generator,\n",
    "                                 steps_per_epoch=200,\n",
    "                                 epochs=50,\n",
    "                                 validation_data=validation_generator,\n",
    "                                 validation_steps=2,\n",
    "                                 class_weight='auto')\n",
    "model_4.save('0121/car_cnn_fh.h5')\n",
    "\n"
   ]
  },
  {
   "cell_type": "code",
   "execution_count": 0,
   "metadata": {
    "colab": {},
    "colab_type": "code",
    "id": "nZZV8tOJBEOH"
   },
   "outputs": [],
   "source": [
    "scoreSeg = model_4.evaluate_generator(test_generator, 400)\n",
    "print(\"Accuracy = \",scoreSeg[1])"
   ]
  },
  {
   "cell_type": "code",
   "execution_count": 0,
   "metadata": {
    "colab": {},
    "colab_type": "code",
    "id": "2mfS7z5WBF4c"
   },
   "outputs": [],
   "source": [
    "test_generator.reset()\n",
    "pred_4 = model_4.predict_generator(test_generator,280, verbose=1)#生成step个数据，下面是对应的标签\n",
    "\n",
    "predicted_class_indices_4 = np.argmax(pred_2, axis=1)"
   ]
  },
  {
   "cell_type": "code",
   "execution_count": 0,
   "metadata": {
    "colab": {},
    "colab_type": "code",
    "id": "cxNBqxpWBP45"
   },
   "outputs": [],
   "source": [
    "print(classification_report(A1,list(predicted_class_indices_4), target_names=['good_car',  'scratch','other']))  \n"
   ]
  }
 ],
 "metadata": {
  "accelerator": "GPU",
  "colab": {
   "collapsed_sections": [],
   "name": "Resnet3.ipynb",
   "provenance": [],
   "toc_visible": true,
   "version": "0.3.2"
  },
  "kernelspec": {
   "display_name": "Python 3",
   "language": "python",
   "name": "python3"
  },
  "language_info": {
   "codemirror_mode": {
    "name": "ipython",
    "version": 3
   },
   "file_extension": ".py",
   "mimetype": "text/x-python",
   "name": "python",
   "nbconvert_exporter": "python",
   "pygments_lexer": "ipython3",
   "version": "3.6.3"
  }
 },
 "nbformat": 4,
 "nbformat_minor": 1
}
